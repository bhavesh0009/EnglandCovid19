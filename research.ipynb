{
 "cells": [
  {
   "cell_type": "code",
   "execution_count": 1,
   "metadata": {},
   "outputs": [],
   "source": [
    "import pandas as pd\n",
    "import requests\n",
    "import json\n",
    "from datetime import timedelta\n",
    "import numpy as np"
   ]
  },
  {
   "cell_type": "code",
   "execution_count": 2,
   "metadata": {},
   "outputs": [],
   "source": [
    "request = requests.get(\"https://coronavirus.data.gov.uk/downloads/json/coronavirus-cases_latest.json\")\n",
    "requestJson = json.loads(request.content)\n",
    "ltlasDf = pd.DataFrame(requestJson['ltlas'])\n",
    "countriesDf = pd.DataFrame(requestJson['countries']) \n",
    "regionsDf = pd.DataFrame(requestJson['regions'])\n",
    "utlasDf = pd.DataFrame(requestJson['utlas'])"
   ]
  },
  {
   "cell_type": "code",
   "execution_count": 3,
   "metadata": {},
   "outputs": [],
   "source": [
    "lowerToUpperDf = pd.read_csv(\"data/Lower_Tier_Local_Authority_to_Upper_Tier_Local_Authority_(April_2019)_Lookup_in_England_and_Wales.csv\")\n",
    "lowerToRegionDf = pd.read_csv(\"data/Local_Authority_District_to_Region_(April_2019)_Lookup_in_England.csv\")"
   ]
  },
  {
   "cell_type": "code",
   "execution_count": 4,
   "metadata": {
    "tags": []
   },
   "outputs": [
    {
     "output_type": "stream",
     "name": "stdout",
     "text": "(24455, 10) (136, 10) (1076, 10) (13653, 10) (339, 5)\n"
    }
   ],
   "source": [
    "print(ltlasDf.shape, countriesDf.shape, regionsDf.shape, utlasDf.shape, lowerToUpperDf.shape)"
   ]
  },
  {
   "cell_type": "code",
   "execution_count": 5,
   "metadata": {},
   "outputs": [],
   "source": [
    "ltlasDf.specimenDate = pd.to_datetime(ltlasDf.specimenDate)\n",
    "countriesDf.specimenDate = pd.to_datetime(countriesDf.specimenDate)\n",
    "regionsDf.specimenDate = pd.to_datetime(regionsDf.specimenDate)\n",
    "utlasDf.specimenDate = pd.to_datetime(utlasDf.specimenDate)"
   ]
  },
  {
   "cell_type": "code",
   "execution_count": 6,
   "metadata": {},
   "outputs": [],
   "source": [
    "ltlasDf = ltlasDf[['areaCode', 'areaName', 'specimenDate', 'dailyLabConfirmedCases', 'totalLabConfirmedCases']]"
   ]
  },
  {
   "cell_type": "code",
   "execution_count": 7,
   "metadata": {},
   "outputs": [],
   "source": [
    "df1 = ltlasDf.drop_duplicates(subset=['areaCode','areaName'])[['areaCode','areaName']]\n",
    "dtDf = pd.DataFrame(pd.date_range(ltlasDf.specimenDate.min(),ltlasDf.specimenDate.max(),freq='1 D'), columns=['specimenDate'])\n",
    "\n",
    "df1['key'] = 0\n",
    "dtDf['key'] = 0\n",
    "\n",
    "df1 = df1.merge(dtDf, how='outer').drop(columns=['key'],axis=1)\n",
    "ltlasDf = df1.merge(ltlasDf, how='left', on=['areaCode','areaName','specimenDate']).fillna(0)"
   ]
  },
  {
   "cell_type": "code",
   "execution_count": 8,
   "metadata": {},
   "outputs": [],
   "source": [
    "ltlasDf = pd.merge(left=ltlasDf, \n",
    "        right=lowerToUpperDf,\n",
    "        how=\"left\", \n",
    "        left_on=\"areaCode\",\n",
    "        right_on=\"LTLA19CD\")\n",
    "ltlasDf = ltlasDf.drop(['LTLA19CD','LTLA19NM','FID'], axis=1)"
   ]
  },
  {
   "cell_type": "code",
   "execution_count": 9,
   "metadata": {},
   "outputs": [],
   "source": [
    "ltlasDf = ltlasDf.rename(columns={\"UTLA19CD\" : \"upperRegionCode\", 'UTLA19NM' : \"upperRegionName\"})"
   ]
  },
  {
   "cell_type": "code",
   "execution_count": 10,
   "metadata": {},
   "outputs": [],
   "source": [
    "ltlasDf = pd.merge(left=ltlasDf,\n",
    "    right=ltlasDf.groupby(['specimenDate', 'upperRegionCode'])['dailyLabConfirmedCases'].sum().reset_index(),\n",
    "    how=\"left\",\n",
    "    left_on=['specimenDate','upperRegionCode'],\n",
    "    right_on=['specimenDate','upperRegionCode'],\n",
    "    suffixes =[\"\",\"UpperRegion\"])"
   ]
  },
  {
   "cell_type": "code",
   "execution_count": 11,
   "metadata": {},
   "outputs": [],
   "source": [
    "ltlasDf = pd.merge(left=ltlasDf, \n",
    "        right=lowerToRegionDf,\n",
    "        how=\"left\", \n",
    "        left_on=\"areaCode\",\n",
    "        right_on=\"LAD19CD\")\n",
    "ltlasDf = ltlasDf.drop(['LAD19CD','LAD19NM','FID'], axis=1)\n",
    "ltlasDf = ltlasDf.rename(columns={\"RGN19CD\" : \"regionCode\", 'RGN19NM' : \"regionName\"})"
   ]
  },
  {
   "cell_type": "code",
   "execution_count": 12,
   "metadata": {},
   "outputs": [],
   "source": [
    "ltlasDf = pd.merge(left=ltlasDf,\n",
    "    right=ltlasDf.groupby(['specimenDate', 'regionCode'])['dailyLabConfirmedCases'].sum().reset_index(),\n",
    "    how=\"left\",\n",
    "    left_on=['specimenDate','regionCode'],\n",
    "    right_on=['specimenDate','regionCode'],\n",
    "    suffixes =[\"\",\"Region\"])"
   ]
  },
  {
   "cell_type": "code",
   "execution_count": 13,
   "metadata": {},
   "outputs": [],
   "source": [
    "ltlasDf.dailyLabConfirmedCases = ltlasDf.dailyLabConfirmedCases.fillna(0)"
   ]
  },
  {
   "cell_type": "code",
   "execution_count": 14,
   "metadata": {},
   "outputs": [],
   "source": [
    "ltlasDf['areaMovingAverage7'] = ltlasDf.groupby('areaCode')['dailyLabConfirmedCases'].transform(lambda x: x.rolling(7, 1).mean())\n",
    "ltlasDf['upperRegionMovingAverage7'] = ltlasDf.groupby('upperRegionCode')['dailyLabConfirmedCasesUpperRegion'].transform(lambda x: x.rolling(7, 1).mean())\n",
    "ltlasDf['regionMovingAverage7'] = ltlasDf.groupby('regionCode')['dailyLabConfirmedCasesRegion'].transform(lambda x: x.rolling(7, 1).mean())"
   ]
  },
  {
   "cell_type": "code",
   "execution_count": 57,
   "metadata": {},
   "outputs": [],
   "source": [
    "ltlasSumDf = ltlasDf.groupby('areaCode')['dailyLabConfirmedCases'].sum().reset_index()\n",
    "tmp = ltlasDf[ltlasDf.specimenDate > (ltlasDf.specimenDate.max() - timedelta(days=30))].groupby('areaCode')['dailyLabConfirmedCases'].sum()\n",
    "ltlasSumDf['last30dCases'] = ltlasSumDf['areaCode'].map(tmp)\n",
    "\n",
    "tmp = ltlasDf[(ltlasDf.specimenDate >= (ltlasDf.specimenDate.max() - timedelta(days=17))) & (ltlasDf.specimenDate <= (ltlasDf.specimenDate.max() - timedelta(days=4)))].groupby('areaCode')['dailyLabConfirmedCases'].sum()\n",
    "\n",
    "tmp1 = ltlasDf[(ltlasDf.specimenDate >= (ltlasDf.specimenDate.max() - timedelta(days=31))) & (ltlasDf.specimenDate <= (ltlasDf.specimenDate.max() - timedelta(days=18)))].groupby('areaCode')['dailyLabConfirmedCases'].sum()\n",
    "\n",
    "ltlasSumDf['rFirst14'] = ltlasSumDf['areaCode'].map(tmp)\n",
    "ltlasSumDf['rSecond14'] = ltlasSumDf['areaCode'].map(tmp1)\n",
    "ltlasSumDf['rBasic'] = np.round(ltlasSumDf['rFirst14'] /  ltlasSumDf['rSecond14'],2)\n",
    "\n",
    "ltlasSumDf.dailyLabConfirmedCases = ltlasSumDf.dailyLabConfirmedCases.astype('int')\n",
    "ltlasSumDf.last30dCases = ltlasSumDf.last30dCases.astype('int')\n",
    "ltlasSumDf.rFirst14 = ltlasSumDf.rFirst14.astype('int')\n",
    "ltlasSumDf.rSecond14= ltlasSumDf.rSecond14.astype('int')\n",
    "ltlasSumDf['rBasic'] = ltlasSumDf['rBasic'].fillna(0)\n",
    "ltlasSumDf['rBasic'] = ltlasSumDf['rBasic'].replace(np.inf, ltlasSumDf['rFirst14'])"
   ]
  },
  {
   "cell_type": "code",
   "execution_count": 65,
   "metadata": {},
   "outputs": [],
   "source": [
    "tmp = lowerToUpperDf[['LTLA19CD','LTLA19NM']].drop_duplicates()\n",
    "tmp = tmp.rename(columns={'LTLA19CD': 'areaCode','LTLA19NM': 'area_name'})\n",
    "ltlastop10last30d = pd.merge(\n",
    "left=ltlasSumDf,\n",
    "right=tmp,\n",
    "how='left')"
   ]
  },
  {
   "cell_type": "code",
   "execution_count": 66,
   "metadata": {},
   "outputs": [
    {
     "output_type": "execute_result",
     "data": {
      "text/plain": "                     area_name  last30dCases\n249                 Manchester           173\n50                     Bedford           162\n15                   Leicester           156\n254                   Tameside           154\n270                 Birmingham           153\n263                  Doncaster           152\n277                   Bradford           141\n45               Cheshire East           138\n265                  Sheffield           135\n46   Cheshire West and Chester           134",
      "text/html": "<div>\n<style scoped>\n    .dataframe tbody tr th:only-of-type {\n        vertical-align: middle;\n    }\n\n    .dataframe tbody tr th {\n        vertical-align: top;\n    }\n\n    .dataframe thead th {\n        text-align: right;\n    }\n</style>\n<table border=\"1\" class=\"dataframe\">\n  <thead>\n    <tr style=\"text-align: right;\">\n      <th></th>\n      <th>area_name</th>\n      <th>last30dCases</th>\n    </tr>\n  </thead>\n  <tbody>\n    <tr>\n      <th>249</th>\n      <td>Manchester</td>\n      <td>173</td>\n    </tr>\n    <tr>\n      <th>50</th>\n      <td>Bedford</td>\n      <td>162</td>\n    </tr>\n    <tr>\n      <th>15</th>\n      <td>Leicester</td>\n      <td>156</td>\n    </tr>\n    <tr>\n      <th>254</th>\n      <td>Tameside</td>\n      <td>154</td>\n    </tr>\n    <tr>\n      <th>270</th>\n      <td>Birmingham</td>\n      <td>153</td>\n    </tr>\n    <tr>\n      <th>263</th>\n      <td>Doncaster</td>\n      <td>152</td>\n    </tr>\n    <tr>\n      <th>277</th>\n      <td>Bradford</td>\n      <td>141</td>\n    </tr>\n    <tr>\n      <th>45</th>\n      <td>Cheshire East</td>\n      <td>138</td>\n    </tr>\n    <tr>\n      <th>265</th>\n      <td>Sheffield</td>\n      <td>135</td>\n    </tr>\n    <tr>\n      <th>46</th>\n      <td>Cheshire West and Chester</td>\n      <td>134</td>\n    </tr>\n  </tbody>\n</table>\n</div>"
     },
     "metadata": {},
     "execution_count": 66
    }
   ],
   "source": [
    "ltlastop10last30d = ltlastop10last30d.sort_values(by='last30dCases', ascending=False).head(10)[['area_name','last30dCases']]"
   ]
  },
  {
   "cell_type": "code",
   "execution_count": 56,
   "metadata": {},
   "outputs": [
    {
     "output_type": "execute_result",
     "data": {
      "text/plain": "      areaCode  dailyLabConfirmedCases  last30dCases  rFirst14  rSecond14  \\\n0    E06000001                     352            29        10         20   \n1    E06000002                     697            27         8         19   \n2    E06000003                     430            17         1         23   \n3    E06000004                     647            64        28         47   \n4    E06000005                     409            33        10         27   \n..         ...                     ...           ...       ...        ...   \n311  E09000029                     768            28        10         20   \n312  E09000030                     649            18        10          8   \n313  E09000031                     777            14         5          9   \n314  E09000032                    1009            14         6          6   \n315  E09000033                     690            35        14         14   \n\n     rBasic             area_name  \n0      0.50            Hartlepool  \n1      0.42         Middlesbrough  \n2      0.04  Redcar and Cleveland  \n3      0.60      Stockton-on-Tees  \n4      0.37            Darlington  \n..      ...                   ...  \n311    0.50                Sutton  \n312    1.25         Tower Hamlets  \n313    0.56        Waltham Forest  \n314    1.00            Wandsworth  \n315    1.00           Westminster  \n\n[316 rows x 7 columns]",
      "text/html": "<div>\n<style scoped>\n    .dataframe tbody tr th:only-of-type {\n        vertical-align: middle;\n    }\n\n    .dataframe tbody tr th {\n        vertical-align: top;\n    }\n\n    .dataframe thead th {\n        text-align: right;\n    }\n</style>\n<table border=\"1\" class=\"dataframe\">\n  <thead>\n    <tr style=\"text-align: right;\">\n      <th></th>\n      <th>areaCode</th>\n      <th>dailyLabConfirmedCases</th>\n      <th>last30dCases</th>\n      <th>rFirst14</th>\n      <th>rSecond14</th>\n      <th>rBasic</th>\n      <th>area_name</th>\n    </tr>\n  </thead>\n  <tbody>\n    <tr>\n      <th>0</th>\n      <td>E06000001</td>\n      <td>352</td>\n      <td>29</td>\n      <td>10</td>\n      <td>20</td>\n      <td>0.50</td>\n      <td>Hartlepool</td>\n    </tr>\n    <tr>\n      <th>1</th>\n      <td>E06000002</td>\n      <td>697</td>\n      <td>27</td>\n      <td>8</td>\n      <td>19</td>\n      <td>0.42</td>\n      <td>Middlesbrough</td>\n    </tr>\n    <tr>\n      <th>2</th>\n      <td>E06000003</td>\n      <td>430</td>\n      <td>17</td>\n      <td>1</td>\n      <td>23</td>\n      <td>0.04</td>\n      <td>Redcar and Cleveland</td>\n    </tr>\n    <tr>\n      <th>3</th>\n      <td>E06000004</td>\n      <td>647</td>\n      <td>64</td>\n      <td>28</td>\n      <td>47</td>\n      <td>0.60</td>\n      <td>Stockton-on-Tees</td>\n    </tr>\n    <tr>\n      <th>4</th>\n      <td>E06000005</td>\n      <td>409</td>\n      <td>33</td>\n      <td>10</td>\n      <td>27</td>\n      <td>0.37</td>\n      <td>Darlington</td>\n    </tr>\n    <tr>\n      <th>...</th>\n      <td>...</td>\n      <td>...</td>\n      <td>...</td>\n      <td>...</td>\n      <td>...</td>\n      <td>...</td>\n      <td>...</td>\n    </tr>\n    <tr>\n      <th>311</th>\n      <td>E09000029</td>\n      <td>768</td>\n      <td>28</td>\n      <td>10</td>\n      <td>20</td>\n      <td>0.50</td>\n      <td>Sutton</td>\n    </tr>\n    <tr>\n      <th>312</th>\n      <td>E09000030</td>\n      <td>649</td>\n      <td>18</td>\n      <td>10</td>\n      <td>8</td>\n      <td>1.25</td>\n      <td>Tower Hamlets</td>\n    </tr>\n    <tr>\n      <th>313</th>\n      <td>E09000031</td>\n      <td>777</td>\n      <td>14</td>\n      <td>5</td>\n      <td>9</td>\n      <td>0.56</td>\n      <td>Waltham Forest</td>\n    </tr>\n    <tr>\n      <th>314</th>\n      <td>E09000032</td>\n      <td>1009</td>\n      <td>14</td>\n      <td>6</td>\n      <td>6</td>\n      <td>1.00</td>\n      <td>Wandsworth</td>\n    </tr>\n    <tr>\n      <th>315</th>\n      <td>E09000033</td>\n      <td>690</td>\n      <td>35</td>\n      <td>14</td>\n      <td>14</td>\n      <td>1.00</td>\n      <td>Westminster</td>\n    </tr>\n  </tbody>\n</table>\n<p>316 rows × 7 columns</p>\n</div>"
     },
     "metadata": {},
     "execution_count": 56
    }
   ],
   "source": []
  },
  {
   "cell_type": "code",
   "execution_count": 53,
   "metadata": {},
   "outputs": [
    {
     "output_type": "error",
     "ename": "ValueError",
     "evalue": "The truth value of a DataFrame is ambiguous. Use a.empty, a.bool(), a.item(), a.any() or a.all().",
     "traceback": [
      "\u001b[1;31m---------------------------------------------------------------------------\u001b[0m",
      "\u001b[1;31mValueError\u001b[0m                                Traceback (most recent call last)",
      "\u001b[1;32m<ipython-input-53-9fcef0122abd>\u001b[0m in \u001b[0;36m<module>\u001b[1;34m\u001b[0m\n\u001b[1;32m----> 1\u001b[1;33m \u001b[0mltlasSumDf\u001b[0m\u001b[1;33m.\u001b[0m\u001b[0mareaCode\u001b[0m\u001b[1;33m.\u001b[0m\u001b[0mmap\u001b[0m\u001b[1;33m(\u001b[0m\u001b[0mtmp\u001b[0m\u001b[1;33m)\u001b[0m\u001b[1;33m\u001b[0m\u001b[1;33m\u001b[0m\u001b[0m\n\u001b[0m",
      "\u001b[1;32m~\\anaconda3\\lib\\site-packages\\pandas\\core\\series.py\u001b[0m in \u001b[0;36mmap\u001b[1;34m(self, arg, na_action)\u001b[0m\n\u001b[0;32m   3628\u001b[0m         \u001b[0mdtype\u001b[0m\u001b[1;33m:\u001b[0m \u001b[0mobject\u001b[0m\u001b[1;33m\u001b[0m\u001b[1;33m\u001b[0m\u001b[0m\n\u001b[0;32m   3629\u001b[0m         \"\"\"\n\u001b[1;32m-> 3630\u001b[1;33m         \u001b[0mnew_values\u001b[0m \u001b[1;33m=\u001b[0m \u001b[0msuper\u001b[0m\u001b[1;33m(\u001b[0m\u001b[1;33m)\u001b[0m\u001b[1;33m.\u001b[0m\u001b[0m_map_values\u001b[0m\u001b[1;33m(\u001b[0m\u001b[0marg\u001b[0m\u001b[1;33m,\u001b[0m \u001b[0mna_action\u001b[0m\u001b[1;33m=\u001b[0m\u001b[0mna_action\u001b[0m\u001b[1;33m)\u001b[0m\u001b[1;33m\u001b[0m\u001b[1;33m\u001b[0m\u001b[0m\n\u001b[0m\u001b[0;32m   3631\u001b[0m         \u001b[1;32mreturn\u001b[0m \u001b[0mself\u001b[0m\u001b[1;33m.\u001b[0m\u001b[0m_constructor\u001b[0m\u001b[1;33m(\u001b[0m\u001b[0mnew_values\u001b[0m\u001b[1;33m,\u001b[0m \u001b[0mindex\u001b[0m\u001b[1;33m=\u001b[0m\u001b[0mself\u001b[0m\u001b[1;33m.\u001b[0m\u001b[0mindex\u001b[0m\u001b[1;33m)\u001b[0m\u001b[1;33m.\u001b[0m\u001b[0m__finalize__\u001b[0m\u001b[1;33m(\u001b[0m\u001b[0mself\u001b[0m\u001b[1;33m)\u001b[0m\u001b[1;33m\u001b[0m\u001b[1;33m\u001b[0m\u001b[0m\n\u001b[0;32m   3632\u001b[0m \u001b[1;33m\u001b[0m\u001b[0m\n",
      "\u001b[1;32m~\\anaconda3\\lib\\site-packages\\pandas\\core\\base.py\u001b[0m in \u001b[0;36m_map_values\u001b[1;34m(self, mapper, na_action)\u001b[0m\n\u001b[0;32m   1113\u001b[0m                 \u001b[1;31m# be float64 as well\u001b[0m\u001b[1;33m\u001b[0m\u001b[1;33m\u001b[0m\u001b[1;33m\u001b[0m\u001b[0m\n\u001b[0;32m   1114\u001b[0m                 mapper = create_series_with_explicit_dtype(\n\u001b[1;32m-> 1115\u001b[1;33m                     \u001b[0mmapper\u001b[0m\u001b[1;33m,\u001b[0m \u001b[0mdtype_if_empty\u001b[0m\u001b[1;33m=\u001b[0m\u001b[0mnp\u001b[0m\u001b[1;33m.\u001b[0m\u001b[0mfloat64\u001b[0m\u001b[1;33m\u001b[0m\u001b[1;33m\u001b[0m\u001b[0m\n\u001b[0m\u001b[0;32m   1116\u001b[0m                 )\n\u001b[0;32m   1117\u001b[0m \u001b[1;33m\u001b[0m\u001b[0m\n",
      "\u001b[1;32m~\\anaconda3\\lib\\site-packages\\pandas\\core\\construction.py\u001b[0m in \u001b[0;36mcreate_series_with_explicit_dtype\u001b[1;34m(data, index, dtype, name, copy, fastpath, dtype_if_empty)\u001b[0m\n\u001b[0;32m    620\u001b[0m     \u001b[1;32mfrom\u001b[0m \u001b[0mpandas\u001b[0m\u001b[1;33m.\u001b[0m\u001b[0mcore\u001b[0m\u001b[1;33m.\u001b[0m\u001b[0mseries\u001b[0m \u001b[1;32mimport\u001b[0m \u001b[0mSeries\u001b[0m\u001b[1;33m\u001b[0m\u001b[1;33m\u001b[0m\u001b[0m\n\u001b[0;32m    621\u001b[0m \u001b[1;33m\u001b[0m\u001b[0m\n\u001b[1;32m--> 622\u001b[1;33m     \u001b[1;32mif\u001b[0m \u001b[0mis_empty_data\u001b[0m\u001b[1;33m(\u001b[0m\u001b[0mdata\u001b[0m\u001b[1;33m)\u001b[0m \u001b[1;32mand\u001b[0m \u001b[0mdtype\u001b[0m \u001b[1;32mis\u001b[0m \u001b[1;32mNone\u001b[0m\u001b[1;33m:\u001b[0m\u001b[1;33m\u001b[0m\u001b[1;33m\u001b[0m\u001b[0m\n\u001b[0m\u001b[0;32m    623\u001b[0m         \u001b[0mdtype\u001b[0m \u001b[1;33m=\u001b[0m \u001b[0mdtype_if_empty\u001b[0m\u001b[1;33m\u001b[0m\u001b[1;33m\u001b[0m\u001b[0m\n\u001b[0;32m    624\u001b[0m     return Series(\n",
      "\u001b[1;32m~\\anaconda3\\lib\\site-packages\\pandas\\core\\construction.py\u001b[0m in \u001b[0;36mis_empty_data\u001b[1;34m(data)\u001b[0m\n\u001b[0;32m    584\u001b[0m     \u001b[0mis_none\u001b[0m \u001b[1;33m=\u001b[0m \u001b[0mdata\u001b[0m \u001b[1;32mis\u001b[0m \u001b[1;32mNone\u001b[0m\u001b[1;33m\u001b[0m\u001b[1;33m\u001b[0m\u001b[0m\n\u001b[0;32m    585\u001b[0m     \u001b[0mis_list_like_without_dtype\u001b[0m \u001b[1;33m=\u001b[0m \u001b[0mis_list_like\u001b[0m\u001b[1;33m(\u001b[0m\u001b[0mdata\u001b[0m\u001b[1;33m)\u001b[0m \u001b[1;32mand\u001b[0m \u001b[1;32mnot\u001b[0m \u001b[0mhasattr\u001b[0m\u001b[1;33m(\u001b[0m\u001b[0mdata\u001b[0m\u001b[1;33m,\u001b[0m \u001b[1;34m\"dtype\"\u001b[0m\u001b[1;33m)\u001b[0m\u001b[1;33m\u001b[0m\u001b[1;33m\u001b[0m\u001b[0m\n\u001b[1;32m--> 586\u001b[1;33m     \u001b[0mis_simple_empty\u001b[0m \u001b[1;33m=\u001b[0m \u001b[0mis_list_like_without_dtype\u001b[0m \u001b[1;32mand\u001b[0m \u001b[1;32mnot\u001b[0m \u001b[0mdata\u001b[0m\u001b[1;33m\u001b[0m\u001b[1;33m\u001b[0m\u001b[0m\n\u001b[0m\u001b[0;32m    587\u001b[0m     \u001b[1;32mreturn\u001b[0m \u001b[0mis_none\u001b[0m \u001b[1;32mor\u001b[0m \u001b[0mis_simple_empty\u001b[0m\u001b[1;33m\u001b[0m\u001b[1;33m\u001b[0m\u001b[0m\n\u001b[0;32m    588\u001b[0m \u001b[1;33m\u001b[0m\u001b[0m\n",
      "\u001b[1;32m~\\anaconda3\\lib\\site-packages\\pandas\\core\\generic.py\u001b[0m in \u001b[0;36m__nonzero__\u001b[1;34m(self)\u001b[0m\n\u001b[0;32m   1477\u001b[0m     \u001b[1;32mdef\u001b[0m \u001b[0m__nonzero__\u001b[0m\u001b[1;33m(\u001b[0m\u001b[0mself\u001b[0m\u001b[1;33m)\u001b[0m\u001b[1;33m:\u001b[0m\u001b[1;33m\u001b[0m\u001b[1;33m\u001b[0m\u001b[0m\n\u001b[0;32m   1478\u001b[0m         raise ValueError(\n\u001b[1;32m-> 1479\u001b[1;33m             \u001b[1;34mf\"The truth value of a {type(self).__name__} is ambiguous. \"\u001b[0m\u001b[1;33m\u001b[0m\u001b[1;33m\u001b[0m\u001b[0m\n\u001b[0m\u001b[0;32m   1480\u001b[0m             \u001b[1;34m\"Use a.empty, a.bool(), a.item(), a.any() or a.all().\"\u001b[0m\u001b[1;33m\u001b[0m\u001b[1;33m\u001b[0m\u001b[0m\n\u001b[0;32m   1481\u001b[0m         )\n",
      "\u001b[1;31mValueError\u001b[0m: The truth value of a DataFrame is ambiguous. Use a.empty, a.bool(), a.item(), a.any() or a.all()."
     ]
    }
   ],
   "source": [
    "ltlasSumDf.areaCode.map(tmp)"
   ]
  },
  {
   "cell_type": "code",
   "execution_count": 29,
   "metadata": {},
   "outputs": [
    {
     "output_type": "error",
     "ename": "ValueError",
     "evalue": "The truth value of a DataFrame is ambiguous. Use a.empty, a.bool(), a.item(), a.any() or a.all().",
     "traceback": [
      "\u001b[1;31m---------------------------------------------------------------------------\u001b[0m",
      "\u001b[1;31mValueError\u001b[0m                                Traceback (most recent call last)",
      "\u001b[1;32m<ipython-input-29-9fcef0122abd>\u001b[0m in \u001b[0;36m<module>\u001b[1;34m\u001b[0m\n\u001b[1;32m----> 1\u001b[1;33m \u001b[0mltlasSumDf\u001b[0m\u001b[1;33m.\u001b[0m\u001b[0mareaCode\u001b[0m\u001b[1;33m.\u001b[0m\u001b[0mmap\u001b[0m\u001b[1;33m(\u001b[0m\u001b[0mtmp\u001b[0m\u001b[1;33m)\u001b[0m\u001b[1;33m\u001b[0m\u001b[1;33m\u001b[0m\u001b[0m\n\u001b[0m",
      "\u001b[1;32m~\\anaconda3\\lib\\site-packages\\pandas\\core\\series.py\u001b[0m in \u001b[0;36mmap\u001b[1;34m(self, arg, na_action)\u001b[0m\n\u001b[0;32m   3628\u001b[0m         \u001b[0mdtype\u001b[0m\u001b[1;33m:\u001b[0m \u001b[0mobject\u001b[0m\u001b[1;33m\u001b[0m\u001b[1;33m\u001b[0m\u001b[0m\n\u001b[0;32m   3629\u001b[0m         \"\"\"\n\u001b[1;32m-> 3630\u001b[1;33m         \u001b[0mnew_values\u001b[0m \u001b[1;33m=\u001b[0m \u001b[0msuper\u001b[0m\u001b[1;33m(\u001b[0m\u001b[1;33m)\u001b[0m\u001b[1;33m.\u001b[0m\u001b[0m_map_values\u001b[0m\u001b[1;33m(\u001b[0m\u001b[0marg\u001b[0m\u001b[1;33m,\u001b[0m \u001b[0mna_action\u001b[0m\u001b[1;33m=\u001b[0m\u001b[0mna_action\u001b[0m\u001b[1;33m)\u001b[0m\u001b[1;33m\u001b[0m\u001b[1;33m\u001b[0m\u001b[0m\n\u001b[0m\u001b[0;32m   3631\u001b[0m         \u001b[1;32mreturn\u001b[0m \u001b[0mself\u001b[0m\u001b[1;33m.\u001b[0m\u001b[0m_constructor\u001b[0m\u001b[1;33m(\u001b[0m\u001b[0mnew_values\u001b[0m\u001b[1;33m,\u001b[0m \u001b[0mindex\u001b[0m\u001b[1;33m=\u001b[0m\u001b[0mself\u001b[0m\u001b[1;33m.\u001b[0m\u001b[0mindex\u001b[0m\u001b[1;33m)\u001b[0m\u001b[1;33m.\u001b[0m\u001b[0m__finalize__\u001b[0m\u001b[1;33m(\u001b[0m\u001b[0mself\u001b[0m\u001b[1;33m)\u001b[0m\u001b[1;33m\u001b[0m\u001b[1;33m\u001b[0m\u001b[0m\n\u001b[0;32m   3632\u001b[0m \u001b[1;33m\u001b[0m\u001b[0m\n",
      "\u001b[1;32m~\\anaconda3\\lib\\site-packages\\pandas\\core\\base.py\u001b[0m in \u001b[0;36m_map_values\u001b[1;34m(self, mapper, na_action)\u001b[0m\n\u001b[0;32m   1113\u001b[0m                 \u001b[1;31m# be float64 as well\u001b[0m\u001b[1;33m\u001b[0m\u001b[1;33m\u001b[0m\u001b[1;33m\u001b[0m\u001b[0m\n\u001b[0;32m   1114\u001b[0m                 mapper = create_series_with_explicit_dtype(\n\u001b[1;32m-> 1115\u001b[1;33m                     \u001b[0mmapper\u001b[0m\u001b[1;33m,\u001b[0m \u001b[0mdtype_if_empty\u001b[0m\u001b[1;33m=\u001b[0m\u001b[0mnp\u001b[0m\u001b[1;33m.\u001b[0m\u001b[0mfloat64\u001b[0m\u001b[1;33m\u001b[0m\u001b[1;33m\u001b[0m\u001b[0m\n\u001b[0m\u001b[0;32m   1116\u001b[0m                 )\n\u001b[0;32m   1117\u001b[0m \u001b[1;33m\u001b[0m\u001b[0m\n",
      "\u001b[1;32m~\\anaconda3\\lib\\site-packages\\pandas\\core\\construction.py\u001b[0m in \u001b[0;36mcreate_series_with_explicit_dtype\u001b[1;34m(data, index, dtype, name, copy, fastpath, dtype_if_empty)\u001b[0m\n\u001b[0;32m    620\u001b[0m     \u001b[1;32mfrom\u001b[0m \u001b[0mpandas\u001b[0m\u001b[1;33m.\u001b[0m\u001b[0mcore\u001b[0m\u001b[1;33m.\u001b[0m\u001b[0mseries\u001b[0m \u001b[1;32mimport\u001b[0m \u001b[0mSeries\u001b[0m\u001b[1;33m\u001b[0m\u001b[1;33m\u001b[0m\u001b[0m\n\u001b[0;32m    621\u001b[0m \u001b[1;33m\u001b[0m\u001b[0m\n\u001b[1;32m--> 622\u001b[1;33m     \u001b[1;32mif\u001b[0m \u001b[0mis_empty_data\u001b[0m\u001b[1;33m(\u001b[0m\u001b[0mdata\u001b[0m\u001b[1;33m)\u001b[0m \u001b[1;32mand\u001b[0m \u001b[0mdtype\u001b[0m \u001b[1;32mis\u001b[0m \u001b[1;32mNone\u001b[0m\u001b[1;33m:\u001b[0m\u001b[1;33m\u001b[0m\u001b[1;33m\u001b[0m\u001b[0m\n\u001b[0m\u001b[0;32m    623\u001b[0m         \u001b[0mdtype\u001b[0m \u001b[1;33m=\u001b[0m \u001b[0mdtype_if_empty\u001b[0m\u001b[1;33m\u001b[0m\u001b[1;33m\u001b[0m\u001b[0m\n\u001b[0;32m    624\u001b[0m     return Series(\n",
      "\u001b[1;32m~\\anaconda3\\lib\\site-packages\\pandas\\core\\construction.py\u001b[0m in \u001b[0;36mis_empty_data\u001b[1;34m(data)\u001b[0m\n\u001b[0;32m    584\u001b[0m     \u001b[0mis_none\u001b[0m \u001b[1;33m=\u001b[0m \u001b[0mdata\u001b[0m \u001b[1;32mis\u001b[0m \u001b[1;32mNone\u001b[0m\u001b[1;33m\u001b[0m\u001b[1;33m\u001b[0m\u001b[0m\n\u001b[0;32m    585\u001b[0m     \u001b[0mis_list_like_without_dtype\u001b[0m \u001b[1;33m=\u001b[0m \u001b[0mis_list_like\u001b[0m\u001b[1;33m(\u001b[0m\u001b[0mdata\u001b[0m\u001b[1;33m)\u001b[0m \u001b[1;32mand\u001b[0m \u001b[1;32mnot\u001b[0m \u001b[0mhasattr\u001b[0m\u001b[1;33m(\u001b[0m\u001b[0mdata\u001b[0m\u001b[1;33m,\u001b[0m \u001b[1;34m\"dtype\"\u001b[0m\u001b[1;33m)\u001b[0m\u001b[1;33m\u001b[0m\u001b[1;33m\u001b[0m\u001b[0m\n\u001b[1;32m--> 586\u001b[1;33m     \u001b[0mis_simple_empty\u001b[0m \u001b[1;33m=\u001b[0m \u001b[0mis_list_like_without_dtype\u001b[0m \u001b[1;32mand\u001b[0m \u001b[1;32mnot\u001b[0m \u001b[0mdata\u001b[0m\u001b[1;33m\u001b[0m\u001b[1;33m\u001b[0m\u001b[0m\n\u001b[0m\u001b[0;32m    587\u001b[0m     \u001b[1;32mreturn\u001b[0m \u001b[0mis_none\u001b[0m \u001b[1;32mor\u001b[0m \u001b[0mis_simple_empty\u001b[0m\u001b[1;33m\u001b[0m\u001b[1;33m\u001b[0m\u001b[0m\n\u001b[0;32m    588\u001b[0m \u001b[1;33m\u001b[0m\u001b[0m\n",
      "\u001b[1;32m~\\anaconda3\\lib\\site-packages\\pandas\\core\\generic.py\u001b[0m in \u001b[0;36m__nonzero__\u001b[1;34m(self)\u001b[0m\n\u001b[0;32m   1477\u001b[0m     \u001b[1;32mdef\u001b[0m \u001b[0m__nonzero__\u001b[0m\u001b[1;33m(\u001b[0m\u001b[0mself\u001b[0m\u001b[1;33m)\u001b[0m\u001b[1;33m:\u001b[0m\u001b[1;33m\u001b[0m\u001b[1;33m\u001b[0m\u001b[0m\n\u001b[0;32m   1478\u001b[0m         raise ValueError(\n\u001b[1;32m-> 1479\u001b[1;33m             \u001b[1;34mf\"The truth value of a {type(self).__name__} is ambiguous. \"\u001b[0m\u001b[1;33m\u001b[0m\u001b[1;33m\u001b[0m\u001b[0m\n\u001b[0m\u001b[0;32m   1480\u001b[0m             \u001b[1;34m\"Use a.empty, a.bool(), a.item(), a.any() or a.all().\"\u001b[0m\u001b[1;33m\u001b[0m\u001b[1;33m\u001b[0m\u001b[0m\n\u001b[0;32m   1481\u001b[0m         )\n",
      "\u001b[1;31mValueError\u001b[0m: The truth value of a DataFrame is ambiguous. Use a.empty, a.bool(), a.item(), a.any() or a.all()."
     ]
    }
   ],
   "source": [
    "ltlasSumDf.areaCode.map(tmp)"
   ]
  },
  {
   "cell_type": "code",
   "execution_count": 17,
   "metadata": {},
   "outputs": [
    {
     "output_type": "execute_result",
     "data": {
      "text/plain": "      areaCode  dailyLabConfirmedCases  last30dCases  rFirst14  rSecond14  \\\n249  E08000003                    1727           173        87         98   \n50   E06000055                     801           162        92         67   \n15   E06000016                    1028           156        75         67   \n254  E08000008                     866           154        78         82   \n270  E08000025                    3347           153        52        111   \n..         ...                     ...           ...       ...        ...   \n84   E07000046                      36             0         0          0   \n108  E07000083                     182             0         0          1   \n228  E07000224                     165             0         0          1   \n85   E07000047                      53             0         0          0   \n182  E07000167                      79             0         0          1   \n\n     rBasic  \n249    0.89  \n50     1.37  \n15     1.12  \n254    0.95  \n270    0.47  \n..      ...  \n84     0.00  \n108    0.00  \n228    0.00  \n85     0.00  \n182    0.00  \n\n[316 rows x 6 columns]",
      "text/html": "<div>\n<style scoped>\n    .dataframe tbody tr th:only-of-type {\n        vertical-align: middle;\n    }\n\n    .dataframe tbody tr th {\n        vertical-align: top;\n    }\n\n    .dataframe thead th {\n        text-align: right;\n    }\n</style>\n<table border=\"1\" class=\"dataframe\">\n  <thead>\n    <tr style=\"text-align: right;\">\n      <th></th>\n      <th>areaCode</th>\n      <th>dailyLabConfirmedCases</th>\n      <th>last30dCases</th>\n      <th>rFirst14</th>\n      <th>rSecond14</th>\n      <th>rBasic</th>\n    </tr>\n  </thead>\n  <tbody>\n    <tr>\n      <th>249</th>\n      <td>E08000003</td>\n      <td>1727</td>\n      <td>173</td>\n      <td>87</td>\n      <td>98</td>\n      <td>0.89</td>\n    </tr>\n    <tr>\n      <th>50</th>\n      <td>E06000055</td>\n      <td>801</td>\n      <td>162</td>\n      <td>92</td>\n      <td>67</td>\n      <td>1.37</td>\n    </tr>\n    <tr>\n      <th>15</th>\n      <td>E06000016</td>\n      <td>1028</td>\n      <td>156</td>\n      <td>75</td>\n      <td>67</td>\n      <td>1.12</td>\n    </tr>\n    <tr>\n      <th>254</th>\n      <td>E08000008</td>\n      <td>866</td>\n      <td>154</td>\n      <td>78</td>\n      <td>82</td>\n      <td>0.95</td>\n    </tr>\n    <tr>\n      <th>270</th>\n      <td>E08000025</td>\n      <td>3347</td>\n      <td>153</td>\n      <td>52</td>\n      <td>111</td>\n      <td>0.47</td>\n    </tr>\n    <tr>\n      <th>...</th>\n      <td>...</td>\n      <td>...</td>\n      <td>...</td>\n      <td>...</td>\n      <td>...</td>\n      <td>...</td>\n    </tr>\n    <tr>\n      <th>84</th>\n      <td>E07000046</td>\n      <td>36</td>\n      <td>0</td>\n      <td>0</td>\n      <td>0</td>\n      <td>0.00</td>\n    </tr>\n    <tr>\n      <th>108</th>\n      <td>E07000083</td>\n      <td>182</td>\n      <td>0</td>\n      <td>0</td>\n      <td>1</td>\n      <td>0.00</td>\n    </tr>\n    <tr>\n      <th>228</th>\n      <td>E07000224</td>\n      <td>165</td>\n      <td>0</td>\n      <td>0</td>\n      <td>1</td>\n      <td>0.00</td>\n    </tr>\n    <tr>\n      <th>85</th>\n      <td>E07000047</td>\n      <td>53</td>\n      <td>0</td>\n      <td>0</td>\n      <td>0</td>\n      <td>0.00</td>\n    </tr>\n    <tr>\n      <th>182</th>\n      <td>E07000167</td>\n      <td>79</td>\n      <td>0</td>\n      <td>0</td>\n      <td>1</td>\n      <td>0.00</td>\n    </tr>\n  </tbody>\n</table>\n<p>316 rows × 6 columns</p>\n</div>"
     },
     "metadata": {},
     "execution_count": 17
    }
   ],
   "source": [
    "ltlasSumDf.sort_values(by='last30dCases', ascending=False)"
   ]
  },
  {
   "cell_type": "code",
   "execution_count": 17,
   "metadata": {
    "tags": []
   },
   "outputs": [
    {
     "output_type": "stream",
     "name": "stdout",
     "text": "2020-06-21 00:00:00\n2020-06-04 00:00:00 2020-06-17 00:00:00\n2020-05-21 00:00:00 2020-06-03 00:00:00\n"
    }
   ],
   "source": [
    "print(ltlasDf.specimenDate.max())\n",
    "print(ltlasDf.specimenDate.max() - timedelta(days=17), ltlasDf.specimenDate.max() - timedelta(days=4))\n",
    "print(ltlasDf.specimenDate.max() - timedelta(days=31), ltlasDf.specimenDate.max() - timedelta(days=18))"
   ]
  },
  {
   "cell_type": "code",
   "execution_count": 18,
   "metadata": {},
   "outputs": [],
   "source": [
    "today : 22\n",
    "first : 4-17\n",
    "second : 21-3"
   ]
  },
  {
   "cell_type": "code",
   "execution_count": 19,
   "metadata": {},
   "outputs": [],
   "source": [
    "ltlasDf = ltlasDf.rename(\n",
    "    columns={\n",
    "        \"dailyLabConfirmedCases\" : \"dcLower\",\n",
    "        \"totalLabConfirmedCases\" : \"tcLower\",\n",
    "        \"upperRegionCode\" : \"urCode\",\n",
    "        \"upperRegionName\" : \"urName\",\n",
    "        \"dailyLabConfirmedCasesUpperRegion\" : \"dcUpper\",\n",
    "        \"regionCode\" : \"rCode\",\n",
    "        \"regionName\" : \"rName\",\n",
    "        \"dailyLabConfirmedCasesRegion\" : \"dcRegion\",\n",
    "        \"areaMovingAverage7\" : \"ma7Lower\",\n",
    "        \"upperRegionMovingAverage7\" : \"ma7Upper\",\n",
    "        \"regionMovingAverage7\" : \"ma7Region\"\n",
    "    }\n",
    ")"
   ]
  },
  {
   "cell_type": "code",
   "execution_count": 20,
   "metadata": {},
   "outputs": [],
   "source": [
    "ltlasDf.to_json(path_or_buf=\"data/ltlas.json\", orient=\"records\", date_format='iso')"
   ]
  },
  {
   "cell_type": "code",
   "execution_count": 27,
   "metadata": {},
   "outputs": [
    {
     "output_type": "execute_result",
     "data": {
      "text/plain": "        areaCode                             areaName specimenDate  dcLower  \\\n37728  E06000058  Bournemouth, Christchurch and Poole   2020-01-30      0.0   \n37729  E06000058  Bournemouth, Christchurch and Poole   2020-01-31      0.0   \n37730  E06000058  Bournemouth, Christchurch and Poole   2020-02-01      0.0   \n37731  E06000058  Bournemouth, Christchurch and Poole   2020-02-02      0.0   \n37732  E06000058  Bournemouth, Christchurch and Poole   2020-02-03      0.0   \n...          ...                                  ...          ...      ...   \n37867  E06000058  Bournemouth, Christchurch and Poole   2020-06-17      0.0   \n37868  E06000058  Bournemouth, Christchurch and Poole   2020-06-18      0.0   \n37869  E06000058  Bournemouth, Christchurch and Poole   2020-06-19      1.0   \n37870  E06000058  Bournemouth, Christchurch and Poole   2020-06-20      0.0   \n37871  E06000058  Bournemouth, Christchurch and Poole   2020-06-21      0.0   \n\n       tcLower     urCode                               urName  dcUpper  \\\n37728      0.0  E06000058  Bournemouth, Christchurch and Poole      0.0   \n37729      0.0  E06000058  Bournemouth, Christchurch and Poole      0.0   \n37730      0.0  E06000058  Bournemouth, Christchurch and Poole      0.0   \n37731      0.0  E06000058  Bournemouth, Christchurch and Poole      0.0   \n37732      0.0  E06000058  Bournemouth, Christchurch and Poole      0.0   \n...        ...        ...                                  ...      ...   \n37867      0.0  E06000058  Bournemouth, Christchurch and Poole      0.0   \n37868      0.0  E06000058  Bournemouth, Christchurch and Poole      0.0   \n37869    491.0  E06000058  Bournemouth, Christchurch and Poole      1.0   \n37870      0.0  E06000058  Bournemouth, Christchurch and Poole      0.0   \n37871    491.0  E06000058  Bournemouth, Christchurch and Poole      0.0   \n\n           rCode       rName  dcRegion  ma7Lower  ma7Upper  ma7Region  \n37728  E12000009  South West       0.0  0.000000  0.000000   2.714286  \n37729  E12000009  South West       0.0  0.000000  0.000000   1.857143  \n37730  E12000009  South West       0.0  0.000000  0.000000   1.428571  \n37731  E12000009  South West       0.0  0.000000  0.000000   1.000000  \n37732  E12000009  South West       2.0  0.000000  0.000000   0.857143  \n...          ...         ...       ...       ...       ...        ...  \n37867  E12000009  South West       3.0  0.285714  0.285714   5.000000  \n37868  E12000009  South West       3.0  0.285714  0.285714   4.285714  \n37869  E12000009  South West       3.0  0.285714  0.285714   4.142857  \n37870  E12000009  South West       3.0  0.142857  0.142857   4.142857  \n37871  E12000009  South West       1.0  0.142857  0.142857   3.714286  \n\n[144 rows x 14 columns]",
      "text/html": "<div>\n<style scoped>\n    .dataframe tbody tr th:only-of-type {\n        vertical-align: middle;\n    }\n\n    .dataframe tbody tr th {\n        vertical-align: top;\n    }\n\n    .dataframe thead th {\n        text-align: right;\n    }\n</style>\n<table border=\"1\" class=\"dataframe\">\n  <thead>\n    <tr style=\"text-align: right;\">\n      <th></th>\n      <th>areaCode</th>\n      <th>areaName</th>\n      <th>specimenDate</th>\n      <th>dcLower</th>\n      <th>tcLower</th>\n      <th>urCode</th>\n      <th>urName</th>\n      <th>dcUpper</th>\n      <th>rCode</th>\n      <th>rName</th>\n      <th>dcRegion</th>\n      <th>ma7Lower</th>\n      <th>ma7Upper</th>\n      <th>ma7Region</th>\n    </tr>\n  </thead>\n  <tbody>\n    <tr>\n      <th>37728</th>\n      <td>E06000058</td>\n      <td>Bournemouth, Christchurch and Poole</td>\n      <td>2020-01-30</td>\n      <td>0.0</td>\n      <td>0.0</td>\n      <td>E06000058</td>\n      <td>Bournemouth, Christchurch and Poole</td>\n      <td>0.0</td>\n      <td>E12000009</td>\n      <td>South West</td>\n      <td>0.0</td>\n      <td>0.000000</td>\n      <td>0.000000</td>\n      <td>2.714286</td>\n    </tr>\n    <tr>\n      <th>37729</th>\n      <td>E06000058</td>\n      <td>Bournemouth, Christchurch and Poole</td>\n      <td>2020-01-31</td>\n      <td>0.0</td>\n      <td>0.0</td>\n      <td>E06000058</td>\n      <td>Bournemouth, Christchurch and Poole</td>\n      <td>0.0</td>\n      <td>E12000009</td>\n      <td>South West</td>\n      <td>0.0</td>\n      <td>0.000000</td>\n      <td>0.000000</td>\n      <td>1.857143</td>\n    </tr>\n    <tr>\n      <th>37730</th>\n      <td>E06000058</td>\n      <td>Bournemouth, Christchurch and Poole</td>\n      <td>2020-02-01</td>\n      <td>0.0</td>\n      <td>0.0</td>\n      <td>E06000058</td>\n      <td>Bournemouth, Christchurch and Poole</td>\n      <td>0.0</td>\n      <td>E12000009</td>\n      <td>South West</td>\n      <td>0.0</td>\n      <td>0.000000</td>\n      <td>0.000000</td>\n      <td>1.428571</td>\n    </tr>\n    <tr>\n      <th>37731</th>\n      <td>E06000058</td>\n      <td>Bournemouth, Christchurch and Poole</td>\n      <td>2020-02-02</td>\n      <td>0.0</td>\n      <td>0.0</td>\n      <td>E06000058</td>\n      <td>Bournemouth, Christchurch and Poole</td>\n      <td>0.0</td>\n      <td>E12000009</td>\n      <td>South West</td>\n      <td>0.0</td>\n      <td>0.000000</td>\n      <td>0.000000</td>\n      <td>1.000000</td>\n    </tr>\n    <tr>\n      <th>37732</th>\n      <td>E06000058</td>\n      <td>Bournemouth, Christchurch and Poole</td>\n      <td>2020-02-03</td>\n      <td>0.0</td>\n      <td>0.0</td>\n      <td>E06000058</td>\n      <td>Bournemouth, Christchurch and Poole</td>\n      <td>0.0</td>\n      <td>E12000009</td>\n      <td>South West</td>\n      <td>2.0</td>\n      <td>0.000000</td>\n      <td>0.000000</td>\n      <td>0.857143</td>\n    </tr>\n    <tr>\n      <th>...</th>\n      <td>...</td>\n      <td>...</td>\n      <td>...</td>\n      <td>...</td>\n      <td>...</td>\n      <td>...</td>\n      <td>...</td>\n      <td>...</td>\n      <td>...</td>\n      <td>...</td>\n      <td>...</td>\n      <td>...</td>\n      <td>...</td>\n      <td>...</td>\n    </tr>\n    <tr>\n      <th>37867</th>\n      <td>E06000058</td>\n      <td>Bournemouth, Christchurch and Poole</td>\n      <td>2020-06-17</td>\n      <td>0.0</td>\n      <td>0.0</td>\n      <td>E06000058</td>\n      <td>Bournemouth, Christchurch and Poole</td>\n      <td>0.0</td>\n      <td>E12000009</td>\n      <td>South West</td>\n      <td>3.0</td>\n      <td>0.285714</td>\n      <td>0.285714</td>\n      <td>5.000000</td>\n    </tr>\n    <tr>\n      <th>37868</th>\n      <td>E06000058</td>\n      <td>Bournemouth, Christchurch and Poole</td>\n      <td>2020-06-18</td>\n      <td>0.0</td>\n      <td>0.0</td>\n      <td>E06000058</td>\n      <td>Bournemouth, Christchurch and Poole</td>\n      <td>0.0</td>\n      <td>E12000009</td>\n      <td>South West</td>\n      <td>3.0</td>\n      <td>0.285714</td>\n      <td>0.285714</td>\n      <td>4.285714</td>\n    </tr>\n    <tr>\n      <th>37869</th>\n      <td>E06000058</td>\n      <td>Bournemouth, Christchurch and Poole</td>\n      <td>2020-06-19</td>\n      <td>1.0</td>\n      <td>491.0</td>\n      <td>E06000058</td>\n      <td>Bournemouth, Christchurch and Poole</td>\n      <td>1.0</td>\n      <td>E12000009</td>\n      <td>South West</td>\n      <td>3.0</td>\n      <td>0.285714</td>\n      <td>0.285714</td>\n      <td>4.142857</td>\n    </tr>\n    <tr>\n      <th>37870</th>\n      <td>E06000058</td>\n      <td>Bournemouth, Christchurch and Poole</td>\n      <td>2020-06-20</td>\n      <td>0.0</td>\n      <td>0.0</td>\n      <td>E06000058</td>\n      <td>Bournemouth, Christchurch and Poole</td>\n      <td>0.0</td>\n      <td>E12000009</td>\n      <td>South West</td>\n      <td>3.0</td>\n      <td>0.142857</td>\n      <td>0.142857</td>\n      <td>4.142857</td>\n    </tr>\n    <tr>\n      <th>37871</th>\n      <td>E06000058</td>\n      <td>Bournemouth, Christchurch and Poole</td>\n      <td>2020-06-21</td>\n      <td>0.0</td>\n      <td>491.0</td>\n      <td>E06000058</td>\n      <td>Bournemouth, Christchurch and Poole</td>\n      <td>0.0</td>\n      <td>E12000009</td>\n      <td>South West</td>\n      <td>1.0</td>\n      <td>0.142857</td>\n      <td>0.142857</td>\n      <td>3.714286</td>\n    </tr>\n  </tbody>\n</table>\n<p>144 rows × 14 columns</p>\n</div>"
     },
     "metadata": {},
     "execution_count": 27
    }
   ],
   "source": [
    "ltlasDf[ltlasDf.areaName.str.len()==35]"
   ]
  },
  {
   "cell_type": "code",
   "execution_count": null,
   "metadata": {},
   "outputs": [],
   "source": []
  }
 ],
 "metadata": {
  "language_info": {
   "codemirror_mode": {
    "name": "ipython",
    "version": 3
   },
   "file_extension": ".py",
   "mimetype": "text/x-python",
   "name": "python",
   "nbconvert_exporter": "python",
   "pygments_lexer": "ipython3",
   "version": "3.7.6-final"
  },
  "orig_nbformat": 2,
  "kernelspec": {
   "name": "python3",
   "display_name": "Python 3"
  }
 },
 "nbformat": 4,
 "nbformat_minor": 2
}