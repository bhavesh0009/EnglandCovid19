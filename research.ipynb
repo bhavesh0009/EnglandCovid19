{
 "cells": [
  {
   "cell_type": "code",
   "execution_count": 1,
   "metadata": {},
   "outputs": [],
   "source": [
    "import pandas as pd\n",
    "import requests\n",
    "import json\n",
    "from datetime import timedelta\n",
    "import numpy as np"
   ]
  },
  {
   "cell_type": "code",
   "execution_count": 2,
   "metadata": {},
   "outputs": [],
   "source": [
    "request = requests.get(\"https://coronavirus.data.gov.uk/downloads/json/coronavirus-cases_latest.json\")\n",
    "requestJson = json.loads(request.content)\n",
    "ltlasDf = pd.DataFrame(requestJson['ltlas'])\n",
    "countriesDf = pd.DataFrame(requestJson['countries']) \n",
    "regionsDf = pd.DataFrame(requestJson['regions'])\n",
    "utlasDf = pd.DataFrame(requestJson['utlas'])"
   ]
  },
  {
   "cell_type": "code",
   "execution_count": 3,
   "metadata": {},
   "outputs": [],
   "source": [
    "lowerToUpperDf = pd.read_csv(\"data/Lower_Tier_Local_Authority_to_Upper_Tier_Local_Authority_(April_2019)_Lookup_in_England_and_Wales.csv\")\n",
    "lowerToRegionDf = pd.read_csv(\"data/Local_Authority_District_to_Region_(April_2019)_Lookup_in_England.csv\")"
   ]
  },
  {
   "cell_type": "code",
   "execution_count": 4,
   "metadata": {
    "tags": []
   },
   "outputs": [
    {
     "output_type": "stream",
     "name": "stdout",
     "text": "(24144, 10) (133, 10) (1047, 10) (13419, 10) (339, 5)\n"
    }
   ],
   "source": [
    "print(ltlasDf.shape, countriesDf.shape, regionsDf.shape, utlasDf.shape, lowerToUpperDf.shape)"
   ]
  },
  {
   "cell_type": "code",
   "execution_count": 5,
   "metadata": {},
   "outputs": [],
   "source": [
    "ltlasDf.specimenDate = pd.to_datetime(ltlasDf.specimenDate)\n",
    "countriesDf.specimenDate = pd.to_datetime(countriesDf.specimenDate)\n",
    "regionsDf.specimenDate = pd.to_datetime(regionsDf.specimenDate)\n",
    "utlasDf.specimenDate = pd.to_datetime(utlasDf.specimenDate)"
   ]
  },
  {
   "cell_type": "code",
   "execution_count": 6,
   "metadata": {},
   "outputs": [],
   "source": [
    "ltlasDf = ltlasDf[['areaCode', 'areaName', 'specimenDate', 'dailyLabConfirmedCases', 'totalLabConfirmedCases']]"
   ]
  },
  {
   "cell_type": "code",
   "execution_count": 7,
   "metadata": {},
   "outputs": [],
   "source": [
    "df1 = ltlasDf.drop_duplicates(subset=['areaCode','areaName'])[['areaCode','areaName']]\n",
    "dtDf = pd.DataFrame(pd.date_range(ltlasDf.specimenDate.min(),ltlasDf.specimenDate.max(),freq='1 D'), columns=['specimenDate'])\n",
    "\n",
    "df1['key'] = 0\n",
    "dtDf['key'] = 0\n",
    "\n",
    "df1 = df1.merge(dtDf, how='outer').drop(columns=['key'],axis=1)\n",
    "ltlasDf = df1.merge(ltlasDf, how='left', on=['areaCode','areaName','specimenDate']).fillna(0)"
   ]
  },
  {
   "cell_type": "code",
   "execution_count": 8,
   "metadata": {},
   "outputs": [],
   "source": [
    "ltlasDf = pd.merge(left=ltlasDf, \n",
    "        right=lowerToUpperDf,\n",
    "        how=\"left\", \n",
    "        left_on=\"areaCode\",\n",
    "        right_on=\"LTLA19CD\")\n",
    "ltlasDf = ltlasDf.drop(['LTLA19CD','LTLA19NM','FID'], axis=1)"
   ]
  },
  {
   "cell_type": "code",
   "execution_count": 9,
   "metadata": {},
   "outputs": [],
   "source": [
    "ltlasDf = ltlasDf.rename(columns={\"UTLA19CD\" : \"upperRegionCode\", 'UTLA19NM' : \"upperRegionName\"})"
   ]
  },
  {
   "cell_type": "code",
   "execution_count": 10,
   "metadata": {},
   "outputs": [],
   "source": [
    "ltlasDf = pd.merge(left=ltlasDf,\n",
    "    right=ltlasDf.groupby(['specimenDate', 'upperRegionCode'])['dailyLabConfirmedCases'].sum().reset_index(),\n",
    "    how=\"left\",\n",
    "    left_on=['specimenDate','upperRegionCode'],\n",
    "    right_on=['specimenDate','upperRegionCode'],\n",
    "    suffixes =[\"\",\"UpperRegion\"])"
   ]
  },
  {
   "cell_type": "code",
   "execution_count": 11,
   "metadata": {},
   "outputs": [],
   "source": [
    "ltlasDf = pd.merge(left=ltlasDf, \n",
    "        right=lowerToRegionDf,\n",
    "        how=\"left\", \n",
    "        left_on=\"areaCode\",\n",
    "        right_on=\"LAD19CD\")\n",
    "ltlasDf = ltlasDf.drop(['LAD19CD','LAD19NM','FID'], axis=1)\n",
    "ltlasDf = ltlasDf.rename(columns={\"RGN19CD\" : \"regionCode\", 'RGN19NM' : \"regionName\"})"
   ]
  },
  {
   "cell_type": "code",
   "execution_count": 12,
   "metadata": {},
   "outputs": [],
   "source": [
    "ltlasDf = pd.merge(left=ltlasDf,\n",
    "    right=ltlasDf.groupby(['specimenDate', 'regionCode'])['dailyLabConfirmedCases'].sum().reset_index(),\n",
    "    how=\"left\",\n",
    "    left_on=['specimenDate','regionCode'],\n",
    "    right_on=['specimenDate','regionCode'],\n",
    "    suffixes =[\"\",\"Region\"])"
   ]
  },
  {
   "cell_type": "code",
   "execution_count": 13,
   "metadata": {},
   "outputs": [],
   "source": [
    "ltlasDf.dailyLabConfirmedCases = ltlasDf.dailyLabConfirmedCases.fillna(0)"
   ]
  },
  {
   "cell_type": "code",
   "execution_count": 14,
   "metadata": {},
   "outputs": [],
   "source": [
    "ltlasDf['areaMovingAverage7'] = ltlasDf.groupby('areaCode')['dailyLabConfirmedCases'].transform(lambda x: x.rolling(7, 1).mean())\n",
    "ltlasDf['upperRegionMovingAverage7'] = ltlasDf.groupby('upperRegionCode')['dailyLabConfirmedCasesUpperRegion'].transform(lambda x: x.rolling(7, 1).mean())\n",
    "ltlasDf['regionMovingAverage7'] = ltlasDf.groupby('regionCode')['dailyLabConfirmedCasesRegion'].transform(lambda x: x.rolling(7, 1).mean())"
   ]
  },
  {
   "cell_type": "code",
   "execution_count": 15,
   "metadata": {},
   "outputs": [],
   "source": [
    "ltlasSumDf = ltlasDf.groupby('areaCode')['dailyLabConfirmedCases'].sum().reset_index()\n",
    "tmp = ltlasDf[ltlasDf.specimenDate > (ltlasDf.specimenDate.max() - timedelta(days=30))].groupby('areaCode')['dailyLabConfirmedCases'].sum()\n",
    "ltlasSumDf['last30dCases'] = ltlasSumDf['areaCode'].map(tmp)\n",
    "tmp = ltlasDf[(ltlasDf.specimenDate >= (ltlasDf.specimenDate.max() - timedelta(days=17))) & (ltlasDf.specimenDate <= (ltlasDf.specimenDate.max() - timedelta(days=4)))].groupby('areaCode')['dailyLabConfirmedCases'].sum()\n",
    "tmp1 = ltlasDf[(ltlasDf.specimenDate >= (ltlasDf.specimenDate.max() - timedelta(days=31))) & (ltlasDf.specimenDate <= (ltlasDf.specimenDate.max() - timedelta(days=18)))].groupby('areaCode')['dailyLabConfirmedCases'].sum()\n",
    "ltlasSumDf['rFirst14'] = ltlasSumDf['areaCode'].map(tmp)\n",
    "ltlasSumDf['rSecond14'] = ltlasSumDf['areaCode'].map(tmp1)\n",
    "ltlasSumDf['rBasic'] = np.round(ltlasSumDf['rFirst14'] /  ltlasSumDf['rSecond14'],2)\n",
    "ltlasSumDf.dailyLabConfirmedCases = ltlasSumDf.dailyLabConfirmedCases.astype('int')\n",
    "ltlasSumDf.last30dCases = ltlasSumDf.last30dCases.astype('int')\n",
    "ltlasSumDf.rFirst14 = ltlasSumDf.rFirst14.astype('int')\n",
    "ltlasSumDf.rSecond14= ltlasSumDf.rSecond14.astype('int')\n",
    "ltlasSumDf['rBasic'] = ltlasSumDf['rBasic'].fillna(0)\n",
    "ltlasSumDf['rBasic'] = ltlasSumDf['rBasic'].replace(np.inf, ltlasSumDf['rFirst14'])"
   ]
  },
  {
   "cell_type": "code",
   "execution_count": 16,
   "metadata": {},
   "outputs": [
    {
     "output_type": "execute_result",
     "data": {
      "text/plain": "      areaCode  dailyLabConfirmedCases  last30dCases  rFirst14  rSecond14  \\\n235  E07000235                     138             1         0          1   \n81   E07000043                      92             1         0          1   \n209  E07000202                     352             4         0          6   \n146  E07000125                     177             7         0          8   \n283  E09000001                      13             1         0          1   \n..         ...                     ...           ...       ...        ...   \n86   E07000061                     162            13         9          3   \n26   E06000027                     224             3         3          0   \n211  E07000207                     265            10         7          2   \n94   E07000069                     206            35        29          8   \n215  E07000211                     529            14        11          3   \n\n     rBasic  \n235    0.00  \n81     0.00  \n209    0.00  \n146    0.00  \n283    0.00  \n..      ...  \n86     3.00  \n26     3.00  \n211    3.50  \n94     3.62  \n215    3.67  \n\n[316 rows x 6 columns]",
      "text/html": "<div>\n<style scoped>\n    .dataframe tbody tr th:only-of-type {\n        vertical-align: middle;\n    }\n\n    .dataframe tbody tr th {\n        vertical-align: top;\n    }\n\n    .dataframe thead th {\n        text-align: right;\n    }\n</style>\n<table border=\"1\" class=\"dataframe\">\n  <thead>\n    <tr style=\"text-align: right;\">\n      <th></th>\n      <th>areaCode</th>\n      <th>dailyLabConfirmedCases</th>\n      <th>last30dCases</th>\n      <th>rFirst14</th>\n      <th>rSecond14</th>\n      <th>rBasic</th>\n    </tr>\n  </thead>\n  <tbody>\n    <tr>\n      <th>235</th>\n      <td>E07000235</td>\n      <td>138</td>\n      <td>1</td>\n      <td>0</td>\n      <td>1</td>\n      <td>0.00</td>\n    </tr>\n    <tr>\n      <th>81</th>\n      <td>E07000043</td>\n      <td>92</td>\n      <td>1</td>\n      <td>0</td>\n      <td>1</td>\n      <td>0.00</td>\n    </tr>\n    <tr>\n      <th>209</th>\n      <td>E07000202</td>\n      <td>352</td>\n      <td>4</td>\n      <td>0</td>\n      <td>6</td>\n      <td>0.00</td>\n    </tr>\n    <tr>\n      <th>146</th>\n      <td>E07000125</td>\n      <td>177</td>\n      <td>7</td>\n      <td>0</td>\n      <td>8</td>\n      <td>0.00</td>\n    </tr>\n    <tr>\n      <th>283</th>\n      <td>E09000001</td>\n      <td>13</td>\n      <td>1</td>\n      <td>0</td>\n      <td>1</td>\n      <td>0.00</td>\n    </tr>\n    <tr>\n      <th>...</th>\n      <td>...</td>\n      <td>...</td>\n      <td>...</td>\n      <td>...</td>\n      <td>...</td>\n      <td>...</td>\n    </tr>\n    <tr>\n      <th>86</th>\n      <td>E07000061</td>\n      <td>162</td>\n      <td>13</td>\n      <td>9</td>\n      <td>3</td>\n      <td>3.00</td>\n    </tr>\n    <tr>\n      <th>26</th>\n      <td>E06000027</td>\n      <td>224</td>\n      <td>3</td>\n      <td>3</td>\n      <td>0</td>\n      <td>3.00</td>\n    </tr>\n    <tr>\n      <th>211</th>\n      <td>E07000207</td>\n      <td>265</td>\n      <td>10</td>\n      <td>7</td>\n      <td>2</td>\n      <td>3.50</td>\n    </tr>\n    <tr>\n      <th>94</th>\n      <td>E07000069</td>\n      <td>206</td>\n      <td>35</td>\n      <td>29</td>\n      <td>8</td>\n      <td>3.62</td>\n    </tr>\n    <tr>\n      <th>215</th>\n      <td>E07000211</td>\n      <td>529</td>\n      <td>14</td>\n      <td>11</td>\n      <td>3</td>\n      <td>3.67</td>\n    </tr>\n  </tbody>\n</table>\n<p>316 rows × 6 columns</p>\n</div>"
     },
     "metadata": {},
     "execution_count": 16
    }
   ],
   "source": [
    "ltlasSumDf.sort_values(by='rBasic')"
   ]
  },
  {
   "cell_type": "code",
   "execution_count": 17,
   "metadata": {
    "tags": []
   },
   "outputs": [
    {
     "output_type": "stream",
     "name": "stdout",
     "text": "2020-06-21 00:00:00\n2020-06-04 00:00:00 2020-06-17 00:00:00\n2020-05-21 00:00:00 2020-06-03 00:00:00\n"
    }
   ],
   "source": [
    "print(ltlasDf.specimenDate.max())\n",
    "print(ltlasDf.specimenDate.max() - timedelta(days=17), ltlasDf.specimenDate.max() - timedelta(days=4))\n",
    "print(ltlasDf.specimenDate.max() - timedelta(days=31), ltlasDf.specimenDate.max() - timedelta(days=18))"
   ]
  },
  {
   "cell_type": "code",
   "execution_count": 18,
   "metadata": {},
   "outputs": [],
   "source": [
    "today : 22\n",
    "first : 4-17\n",
    "second : 21-3"
   ]
  },
  {
   "cell_type": "code",
   "execution_count": 19,
   "metadata": {},
   "outputs": [],
   "source": [
    "ltlasDf = ltlasDf.rename(\n",
    "    columns={\n",
    "        \"dailyLabConfirmedCases\" : \"dcLower\",\n",
    "        \"totalLabConfirmedCases\" : \"tcLower\",\n",
    "        \"upperRegionCode\" : \"urCode\",\n",
    "        \"upperRegionName\" : \"urName\",\n",
    "        \"dailyLabConfirmedCasesUpperRegion\" : \"dcUpper\",\n",
    "        \"regionCode\" : \"rCode\",\n",
    "        \"regionName\" : \"rName\",\n",
    "        \"dailyLabConfirmedCasesRegion\" : \"dcRegion\",\n",
    "        \"areaMovingAverage7\" : \"ma7Lower\",\n",
    "        \"upperRegionMovingAverage7\" : \"ma7Upper\",\n",
    "        \"regionMovingAverage7\" : \"ma7Region\"\n",
    "    }\n",
    ")"
   ]
  },
  {
   "cell_type": "code",
   "execution_count": 20,
   "metadata": {},
   "outputs": [],
   "source": [
    "ltlasDf.to_json(path_or_buf=\"data/ltlas.json\", orient=\"records\", date_format='iso')"
   ]
  },
  {
   "cell_type": "code",
   "execution_count": 27,
   "metadata": {},
   "outputs": [
    {
     "output_type": "execute_result",
     "data": {
      "text/plain": "        areaCode                             areaName specimenDate  dcLower  \\\n37728  E06000058  Bournemouth, Christchurch and Poole   2020-01-30      0.0   \n37729  E06000058  Bournemouth, Christchurch and Poole   2020-01-31      0.0   \n37730  E06000058  Bournemouth, Christchurch and Poole   2020-02-01      0.0   \n37731  E06000058  Bournemouth, Christchurch and Poole   2020-02-02      0.0   \n37732  E06000058  Bournemouth, Christchurch and Poole   2020-02-03      0.0   \n...          ...                                  ...          ...      ...   \n37867  E06000058  Bournemouth, Christchurch and Poole   2020-06-17      0.0   \n37868  E06000058  Bournemouth, Christchurch and Poole   2020-06-18      0.0   \n37869  E06000058  Bournemouth, Christchurch and Poole   2020-06-19      1.0   \n37870  E06000058  Bournemouth, Christchurch and Poole   2020-06-20      0.0   \n37871  E06000058  Bournemouth, Christchurch and Poole   2020-06-21      0.0   \n\n       tcLower     urCode                               urName  dcUpper  \\\n37728      0.0  E06000058  Bournemouth, Christchurch and Poole      0.0   \n37729      0.0  E06000058  Bournemouth, Christchurch and Poole      0.0   \n37730      0.0  E06000058  Bournemouth, Christchurch and Poole      0.0   \n37731      0.0  E06000058  Bournemouth, Christchurch and Poole      0.0   \n37732      0.0  E06000058  Bournemouth, Christchurch and Poole      0.0   \n...        ...        ...                                  ...      ...   \n37867      0.0  E06000058  Bournemouth, Christchurch and Poole      0.0   \n37868      0.0  E06000058  Bournemouth, Christchurch and Poole      0.0   \n37869    491.0  E06000058  Bournemouth, Christchurch and Poole      1.0   \n37870      0.0  E06000058  Bournemouth, Christchurch and Poole      0.0   \n37871    491.0  E06000058  Bournemouth, Christchurch and Poole      0.0   \n\n           rCode       rName  dcRegion  ma7Lower  ma7Upper  ma7Region  \n37728  E12000009  South West       0.0  0.000000  0.000000   2.714286  \n37729  E12000009  South West       0.0  0.000000  0.000000   1.857143  \n37730  E12000009  South West       0.0  0.000000  0.000000   1.428571  \n37731  E12000009  South West       0.0  0.000000  0.000000   1.000000  \n37732  E12000009  South West       2.0  0.000000  0.000000   0.857143  \n...          ...         ...       ...       ...       ...        ...  \n37867  E12000009  South West       3.0  0.285714  0.285714   5.000000  \n37868  E12000009  South West       3.0  0.285714  0.285714   4.285714  \n37869  E12000009  South West       3.0  0.285714  0.285714   4.142857  \n37870  E12000009  South West       3.0  0.142857  0.142857   4.142857  \n37871  E12000009  South West       1.0  0.142857  0.142857   3.714286  \n\n[144 rows x 14 columns]",
      "text/html": "<div>\n<style scoped>\n    .dataframe tbody tr th:only-of-type {\n        vertical-align: middle;\n    }\n\n    .dataframe tbody tr th {\n        vertical-align: top;\n    }\n\n    .dataframe thead th {\n        text-align: right;\n    }\n</style>\n<table border=\"1\" class=\"dataframe\">\n  <thead>\n    <tr style=\"text-align: right;\">\n      <th></th>\n      <th>areaCode</th>\n      <th>areaName</th>\n      <th>specimenDate</th>\n      <th>dcLower</th>\n      <th>tcLower</th>\n      <th>urCode</th>\n      <th>urName</th>\n      <th>dcUpper</th>\n      <th>rCode</th>\n      <th>rName</th>\n      <th>dcRegion</th>\n      <th>ma7Lower</th>\n      <th>ma7Upper</th>\n      <th>ma7Region</th>\n    </tr>\n  </thead>\n  <tbody>\n    <tr>\n      <th>37728</th>\n      <td>E06000058</td>\n      <td>Bournemouth, Christchurch and Poole</td>\n      <td>2020-01-30</td>\n      <td>0.0</td>\n      <td>0.0</td>\n      <td>E06000058</td>\n      <td>Bournemouth, Christchurch and Poole</td>\n      <td>0.0</td>\n      <td>E12000009</td>\n      <td>South West</td>\n      <td>0.0</td>\n      <td>0.000000</td>\n      <td>0.000000</td>\n      <td>2.714286</td>\n    </tr>\n    <tr>\n      <th>37729</th>\n      <td>E06000058</td>\n      <td>Bournemouth, Christchurch and Poole</td>\n      <td>2020-01-31</td>\n      <td>0.0</td>\n      <td>0.0</td>\n      <td>E06000058</td>\n      <td>Bournemouth, Christchurch and Poole</td>\n      <td>0.0</td>\n      <td>E12000009</td>\n      <td>South West</td>\n      <td>0.0</td>\n      <td>0.000000</td>\n      <td>0.000000</td>\n      <td>1.857143</td>\n    </tr>\n    <tr>\n      <th>37730</th>\n      <td>E06000058</td>\n      <td>Bournemouth, Christchurch and Poole</td>\n      <td>2020-02-01</td>\n      <td>0.0</td>\n      <td>0.0</td>\n      <td>E06000058</td>\n      <td>Bournemouth, Christchurch and Poole</td>\n      <td>0.0</td>\n      <td>E12000009</td>\n      <td>South West</td>\n      <td>0.0</td>\n      <td>0.000000</td>\n      <td>0.000000</td>\n      <td>1.428571</td>\n    </tr>\n    <tr>\n      <th>37731</th>\n      <td>E06000058</td>\n      <td>Bournemouth, Christchurch and Poole</td>\n      <td>2020-02-02</td>\n      <td>0.0</td>\n      <td>0.0</td>\n      <td>E06000058</td>\n      <td>Bournemouth, Christchurch and Poole</td>\n      <td>0.0</td>\n      <td>E12000009</td>\n      <td>South West</td>\n      <td>0.0</td>\n      <td>0.000000</td>\n      <td>0.000000</td>\n      <td>1.000000</td>\n    </tr>\n    <tr>\n      <th>37732</th>\n      <td>E06000058</td>\n      <td>Bournemouth, Christchurch and Poole</td>\n      <td>2020-02-03</td>\n      <td>0.0</td>\n      <td>0.0</td>\n      <td>E06000058</td>\n      <td>Bournemouth, Christchurch and Poole</td>\n      <td>0.0</td>\n      <td>E12000009</td>\n      <td>South West</td>\n      <td>2.0</td>\n      <td>0.000000</td>\n      <td>0.000000</td>\n      <td>0.857143</td>\n    </tr>\n    <tr>\n      <th>...</th>\n      <td>...</td>\n      <td>...</td>\n      <td>...</td>\n      <td>...</td>\n      <td>...</td>\n      <td>...</td>\n      <td>...</td>\n      <td>...</td>\n      <td>...</td>\n      <td>...</td>\n      <td>...</td>\n      <td>...</td>\n      <td>...</td>\n      <td>...</td>\n    </tr>\n    <tr>\n      <th>37867</th>\n      <td>E06000058</td>\n      <td>Bournemouth, Christchurch and Poole</td>\n      <td>2020-06-17</td>\n      <td>0.0</td>\n      <td>0.0</td>\n      <td>E06000058</td>\n      <td>Bournemouth, Christchurch and Poole</td>\n      <td>0.0</td>\n      <td>E12000009</td>\n      <td>South West</td>\n      <td>3.0</td>\n      <td>0.285714</td>\n      <td>0.285714</td>\n      <td>5.000000</td>\n    </tr>\n    <tr>\n      <th>37868</th>\n      <td>E06000058</td>\n      <td>Bournemouth, Christchurch and Poole</td>\n      <td>2020-06-18</td>\n      <td>0.0</td>\n      <td>0.0</td>\n      <td>E06000058</td>\n      <td>Bournemouth, Christchurch and Poole</td>\n      <td>0.0</td>\n      <td>E12000009</td>\n      <td>South West</td>\n      <td>3.0</td>\n      <td>0.285714</td>\n      <td>0.285714</td>\n      <td>4.285714</td>\n    </tr>\n    <tr>\n      <th>37869</th>\n      <td>E06000058</td>\n      <td>Bournemouth, Christchurch and Poole</td>\n      <td>2020-06-19</td>\n      <td>1.0</td>\n      <td>491.0</td>\n      <td>E06000058</td>\n      <td>Bournemouth, Christchurch and Poole</td>\n      <td>1.0</td>\n      <td>E12000009</td>\n      <td>South West</td>\n      <td>3.0</td>\n      <td>0.285714</td>\n      <td>0.285714</td>\n      <td>4.142857</td>\n    </tr>\n    <tr>\n      <th>37870</th>\n      <td>E06000058</td>\n      <td>Bournemouth, Christchurch and Poole</td>\n      <td>2020-06-20</td>\n      <td>0.0</td>\n      <td>0.0</td>\n      <td>E06000058</td>\n      <td>Bournemouth, Christchurch and Poole</td>\n      <td>0.0</td>\n      <td>E12000009</td>\n      <td>South West</td>\n      <td>3.0</td>\n      <td>0.142857</td>\n      <td>0.142857</td>\n      <td>4.142857</td>\n    </tr>\n    <tr>\n      <th>37871</th>\n      <td>E06000058</td>\n      <td>Bournemouth, Christchurch and Poole</td>\n      <td>2020-06-21</td>\n      <td>0.0</td>\n      <td>491.0</td>\n      <td>E06000058</td>\n      <td>Bournemouth, Christchurch and Poole</td>\n      <td>0.0</td>\n      <td>E12000009</td>\n      <td>South West</td>\n      <td>1.0</td>\n      <td>0.142857</td>\n      <td>0.142857</td>\n      <td>3.714286</td>\n    </tr>\n  </tbody>\n</table>\n<p>144 rows × 14 columns</p>\n</div>"
     },
     "metadata": {},
     "execution_count": 27
    }
   ],
   "source": [
    "ltlasDf[ltlasDf.areaName.str.len()==35]"
   ]
  },
  {
   "cell_type": "code",
   "execution_count": null,
   "metadata": {},
   "outputs": [],
   "source": []
  }
 ],
 "metadata": {
  "language_info": {
   "codemirror_mode": {
    "name": "ipython",
    "version": 3
   },
   "file_extension": ".py",
   "mimetype": "text/x-python",
   "name": "python",
   "nbconvert_exporter": "python",
   "pygments_lexer": "ipython3",
   "version": "3.7.6-final"
  },
  "orig_nbformat": 2,
  "kernelspec": {
   "name": "python3",
   "display_name": "Python 3"
  }
 },
 "nbformat": 4,
 "nbformat_minor": 2
}