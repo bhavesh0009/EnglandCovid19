{
 "cells": [
  {
   "cell_type": "code",
   "execution_count": 1,
   "metadata": {},
   "outputs": [],
   "source": [
    "import pandas as pd\n",
    "import requests\n",
    "import json\n",
    "from datetime import timedelta\n",
    "import numpy as np"
   ]
  },
  {
   "cell_type": "code",
   "execution_count": 2,
   "metadata": {},
   "outputs": [],
   "source": [
    "request = requests.get(\"https://coronavirus.data.gov.uk/downloads/json/coronavirus-cases_latest.json\")\n",
    "requestJson = json.loads(request.content)\n",
    "ltlasDf = pd.DataFrame(requestJson['ltlas'])"
   ]
  },
  {
   "cell_type": "code",
   "execution_count": 3,
   "metadata": {},
   "outputs": [],
   "source": [
    "lowerToUpperDf = pd.read_csv(\"data/Lower_Tier_Local_Authority_to_Upper_Tier_Local_Authority.csv\")\n",
    "lowerToRegionDf = pd.read_csv(\"data/Local_Authority_District_to_Region.csv\")\n",
    "population = pd.read_csv(\"data/population.csv\")"
   ]
  },
  {
   "cell_type": "code",
   "execution_count": 4,
   "metadata": {
    "tags": []
   },
   "outputs": [
    {
     "output_type": "stream",
     "name": "stdout",
     "text": "(31452, 10)\n"
    }
   ],
   "source": [
    "print(ltlasDf.shape)"
   ]
  },
  {
   "cell_type": "code",
   "execution_count": 5,
   "metadata": {},
   "outputs": [],
   "source": [
    "ltlasDf.specimenDate = pd.to_datetime(ltlasDf.specimenDate)"
   ]
  },
  {
   "cell_type": "code",
   "execution_count": 6,
   "metadata": {},
   "outputs": [
    {
     "output_type": "execute_result",
     "data": {
      "text/plain": "       areaCode areaName specimenDate  dailyLabConfirmedCases  \\\n88    E07000222  Warwick   2020-07-12                       0   \n783   E07000222  Warwick   2020-07-08                       1   \n1624  E07000222  Warwick   2020-07-03                       1   \n2774  E07000222  Warwick   2020-06-26                       1   \n3494  E07000222  Warwick   2020-06-22                       1   \n\n     previouslyReportedDailyCases changeInDailyCases  totalLabConfirmedCases  \\\n88                           None               None                     431   \n783                          None               None                     431   \n1624                         None               None                     430   \n2774                         None               None                     429   \n3494                         None               None                     428   \n\n     previouslyReportedTotalCases changeInTotalCases  \\\n88                           None               None   \n783                          None               None   \n1624                         None               None   \n2774                         None               None   \n3494                         None               None   \n\n      dailyTotalLabConfirmedCasesRate  \n88                              302.5  \n783                             302.5  \n1624                            301.8  \n2774                            301.1  \n3494                            300.4  ",
      "text/html": "<div>\n<style scoped>\n    .dataframe tbody tr th:only-of-type {\n        vertical-align: middle;\n    }\n\n    .dataframe tbody tr th {\n        vertical-align: top;\n    }\n\n    .dataframe thead th {\n        text-align: right;\n    }\n</style>\n<table border=\"1\" class=\"dataframe\">\n  <thead>\n    <tr style=\"text-align: right;\">\n      <th></th>\n      <th>areaCode</th>\n      <th>areaName</th>\n      <th>specimenDate</th>\n      <th>dailyLabConfirmedCases</th>\n      <th>previouslyReportedDailyCases</th>\n      <th>changeInDailyCases</th>\n      <th>totalLabConfirmedCases</th>\n      <th>previouslyReportedTotalCases</th>\n      <th>changeInTotalCases</th>\n      <th>dailyTotalLabConfirmedCasesRate</th>\n    </tr>\n  </thead>\n  <tbody>\n    <tr>\n      <th>88</th>\n      <td>E07000222</td>\n      <td>Warwick</td>\n      <td>2020-07-12</td>\n      <td>0</td>\n      <td>None</td>\n      <td>None</td>\n      <td>431</td>\n      <td>None</td>\n      <td>None</td>\n      <td>302.5</td>\n    </tr>\n    <tr>\n      <th>783</th>\n      <td>E07000222</td>\n      <td>Warwick</td>\n      <td>2020-07-08</td>\n      <td>1</td>\n      <td>None</td>\n      <td>None</td>\n      <td>431</td>\n      <td>None</td>\n      <td>None</td>\n      <td>302.5</td>\n    </tr>\n    <tr>\n      <th>1624</th>\n      <td>E07000222</td>\n      <td>Warwick</td>\n      <td>2020-07-03</td>\n      <td>1</td>\n      <td>None</td>\n      <td>None</td>\n      <td>430</td>\n      <td>None</td>\n      <td>None</td>\n      <td>301.8</td>\n    </tr>\n    <tr>\n      <th>2774</th>\n      <td>E07000222</td>\n      <td>Warwick</td>\n      <td>2020-06-26</td>\n      <td>1</td>\n      <td>None</td>\n      <td>None</td>\n      <td>429</td>\n      <td>None</td>\n      <td>None</td>\n      <td>301.1</td>\n    </tr>\n    <tr>\n      <th>3494</th>\n      <td>E07000222</td>\n      <td>Warwick</td>\n      <td>2020-06-22</td>\n      <td>1</td>\n      <td>None</td>\n      <td>None</td>\n      <td>428</td>\n      <td>None</td>\n      <td>None</td>\n      <td>300.4</td>\n    </tr>\n  </tbody>\n</table>\n</div>"
     },
     "metadata": {},
     "execution_count": 6
    }
   ],
   "source": [
    "ltlasDf[ltlasDf.areaName=='Warwick'].head()"
   ]
  },
  {
   "cell_type": "code",
   "execution_count": 7,
   "metadata": {},
   "outputs": [],
   "source": [
    "ltlasDf = ltlasDf[['areaCode', 'areaName', 'specimenDate', 'dailyLabConfirmedCases', 'totalLabConfirmedCases']]"
   ]
  },
  {
   "cell_type": "code",
   "execution_count": 8,
   "metadata": {},
   "outputs": [],
   "source": [
    "df1 = ltlasDf.drop_duplicates(subset=['areaCode','areaName'])[['areaCode','areaName']]\n",
    "dtDf = pd.DataFrame(pd.date_range(ltlasDf.specimenDate.min(),ltlasDf.specimenDate.max(),freq='1 D'), columns=['specimenDate'])\n",
    "\n",
    "df1['key'] = 0\n",
    "dtDf['key'] = 0\n",
    "\n",
    "df1 = df1.merge(dtDf, how='outer').drop(columns=['key'],axis=1)\n",
    "ltlasDf = df1.merge(ltlasDf, how='left', on=['areaCode','areaName','specimenDate']).fillna(0)\n"
   ]
  },
  {
   "cell_type": "code",
   "execution_count": 9,
   "metadata": {},
   "outputs": [],
   "source": [
    "ltlasDf = pd.merge(left=ltlasDf, \n",
    "    right=lowerToUpperDf,\n",
    "    how=\"left\", \n",
    "    left_on=\"areaCode\",\n",
    "    right_on=\"LTLA19CD\")\n",
    "ltlasDf = ltlasDf.drop(['LTLA19CD','LTLA19NM','FID'], axis=1)\n",
    "ltlasDf = ltlasDf.rename(columns={\"UTLA19CD\" : \"upperRegionCode\", 'UTLA19NM' : \"upperRegionName\"})\n",
    "\n",
    "ltlasDf = pd.merge(left=ltlasDf,\n",
    "right=ltlasDf.groupby(['specimenDate', 'upperRegionCode'])['dailyLabConfirmedCases'].sum().reset_index(),\n",
    "how=\"left\",\n",
    "left_on=['specimenDate','upperRegionCode'],\n",
    "right_on=['specimenDate','upperRegionCode'],\n",
    "suffixes =[\"\",\"UpperRegion\"])\n",
    "\n",
    "ltlasDf = pd.merge(left=ltlasDf, \n",
    "    right=lowerToRegionDf,\n",
    "    how=\"left\", \n",
    "    left_on=\"areaCode\",\n",
    "    right_on=\"LAD19CD\")\n",
    "ltlasDf = ltlasDf.drop(['LAD19CD','LAD19NM','FID'], axis=1)\n",
    "ltlasDf = ltlasDf.rename(columns={\"RGN19CD\" : \"regionCode\", 'RGN19NM' : \"regionName\"})\n",
    "\n",
    "ltlasDf = pd.merge(left=ltlasDf,\n",
    "right=ltlasDf.groupby(['specimenDate', 'regionCode'])['dailyLabConfirmedCases'].sum().reset_index(),\n",
    "how=\"left\",\n",
    "left_on=['specimenDate','regionCode'],\n",
    "right_on=['specimenDate','regionCode'],\n",
    "suffixes =[\"\",\"Region\"])"
   ]
  },
  {
   "cell_type": "code",
   "execution_count": 10,
   "metadata": {},
   "outputs": [],
   "source": [
    "ltlasDf.dailyLabConfirmedCases = ltlasDf.dailyLabConfirmedCases.fillna(0)"
   ]
  },
  {
   "cell_type": "code",
   "execution_count": 11,
   "metadata": {},
   "outputs": [
    {
     "output_type": "execute_result",
     "data": {
      "text/plain": "        Code               Name Geography     Area  Population\n0  K02000001     UNITED KINGDOM   Country  242,749  66,796,807\n1  K03000001      GREAT BRITAIN   Country  228,956  64,903,140\n2  K04000001  ENGLAND AND WALES   Country  151,045  59,439,840\n3  E92000001            ENGLAND   Country  130,309  56,286,961\n4  E12000001         NORTH EAST    Region    8,574   2,669,941",
      "text/html": "<div>\n<style scoped>\n    .dataframe tbody tr th:only-of-type {\n        vertical-align: middle;\n    }\n\n    .dataframe tbody tr th {\n        vertical-align: top;\n    }\n\n    .dataframe thead th {\n        text-align: right;\n    }\n</style>\n<table border=\"1\" class=\"dataframe\">\n  <thead>\n    <tr style=\"text-align: right;\">\n      <th></th>\n      <th>Code</th>\n      <th>Name</th>\n      <th>Geography</th>\n      <th>Area</th>\n      <th>Population</th>\n    </tr>\n  </thead>\n  <tbody>\n    <tr>\n      <th>0</th>\n      <td>K02000001</td>\n      <td>UNITED KINGDOM</td>\n      <td>Country</td>\n      <td>242,749</td>\n      <td>66,796,807</td>\n    </tr>\n    <tr>\n      <th>1</th>\n      <td>K03000001</td>\n      <td>GREAT BRITAIN</td>\n      <td>Country</td>\n      <td>228,956</td>\n      <td>64,903,140</td>\n    </tr>\n    <tr>\n      <th>2</th>\n      <td>K04000001</td>\n      <td>ENGLAND AND WALES</td>\n      <td>Country</td>\n      <td>151,045</td>\n      <td>59,439,840</td>\n    </tr>\n    <tr>\n      <th>3</th>\n      <td>E92000001</td>\n      <td>ENGLAND</td>\n      <td>Country</td>\n      <td>130,309</td>\n      <td>56,286,961</td>\n    </tr>\n    <tr>\n      <th>4</th>\n      <td>E12000001</td>\n      <td>NORTH EAST</td>\n      <td>Region</td>\n      <td>8,574</td>\n      <td>2,669,941</td>\n    </tr>\n  </tbody>\n</table>\n</div>"
     },
     "metadata": {},
     "execution_count": 11
    }
   ],
   "source": [
    "population.head()"
   ]
  },
  {
   "cell_type": "code",
   "execution_count": 12,
   "metadata": {
    "tags": []
   },
   "outputs": [],
   "source": [
    "population.Area = population.Area.str.replace(',','').astype('int')\n",
    "population.Population = population.Population.str.replace(',','').astype('int')"
   ]
  },
  {
   "cell_type": "code",
   "execution_count": 13,
   "metadata": {},
   "outputs": [],
   "source": [
    "ltlasDf = pd.merge(\n",
    "left=ltlasDf,\n",
    "right=population,\n",
    "how=\"left\",\n",
    "left_on=\"areaCode\",\n",
    "right_on=\"Code\")\n",
    "ltlasDf = ltlasDf.drop(['Code','Name'], axis=1)"
   ]
  },
  {
   "cell_type": "code",
   "execution_count": 14,
   "metadata": {},
   "outputs": [],
   "source": [
    "ltlasDf['areaMovingAverage7'] = ltlasDf.groupby('areaCode')['dailyLabConfirmedCases'].transform(lambda x: x.rolling(7, 1).mean())\n",
    "ltlasDf['upperRegionMovingAverage7'] = ltlasDf.groupby('upperRegionCode')['dailyLabConfirmedCasesUpperRegion'].transform(lambda x: x.rolling(7, 1).mean())\n",
    "ltlasDf['regionMovingAverage7'] = ltlasDf.groupby('regionCode')['dailyLabConfirmedCasesRegion'].transform(lambda x: x.rolling(7, 1).mean())"
   ]
  },
  {
   "cell_type": "code",
   "execution_count": 15,
   "metadata": {},
   "outputs": [],
   "source": [
    "ltlasDf['rate'] = (ltlasDf['dailyLabConfirmedCases'] / ltlasDf.Population) * 100000"
   ]
  },
  {
   "cell_type": "code",
   "execution_count": 28,
   "metadata": {},
   "outputs": [],
   "source": [
    "ltlasDf['areaMA7Max'] = ltlasDf.groupby('areaCode')['areaMovingAverage7'].cummax()"
   ]
  },
  {
   "cell_type": "code",
   "execution_count": 33,
   "metadata": {},
   "outputs": [],
   "source": [
    "ltlasDf['areaMAtoPeakProp'] = ltlasDf['areaMovingAverage7'] / ltlasDf['areaMA7Max']"
   ]
  },
  {
   "cell_type": "code",
   "execution_count": 34,
   "metadata": {},
   "outputs": [
    {
     "output_type": "execute_result",
     "data": {
      "text/plain": "        areaCode    areaName specimenDate  dailyLabConfirmedCases  \\\n51970  E06000001  Hartlepool   2020-07-08                     0.0   \n51971  E06000001  Hartlepool   2020-07-09                     1.0   \n51972  E06000001  Hartlepool   2020-07-10                     0.0   \n51973  E06000001  Hartlepool   2020-07-11                     0.0   \n51974  E06000001  Hartlepool   2020-07-12                     0.0   \n\n       totalLabConfirmedCases upperRegionCode upperRegionName  \\\n51970                     0.0       E06000001      Hartlepool   \n51971                   593.0       E06000001      Hartlepool   \n51972                     0.0       E06000001      Hartlepool   \n51973                     0.0       E06000001      Hartlepool   \n51974                   593.0       E06000001      Hartlepool   \n\n       dailyLabConfirmedCasesUpperRegion regionCode  regionName  \\\n51970                                0.0  E12000001  North East   \n51971                                1.0  E12000001  North East   \n51972                                0.0  E12000001  North East   \n51973                                0.0  E12000001  North East   \n51974                                0.0  E12000001  North East   \n\n       dailyLabConfirmedCasesRegion          Geography  Area  Population  \\\n51970                          12.0  Unitary Authority  94.0     93663.0   \n51971                          17.0  Unitary Authority  94.0     93663.0   \n51972                           8.0  Unitary Authority  94.0     93663.0   \n51973                           3.0  Unitary Authority  94.0     93663.0   \n51974                           0.0  Unitary Authority  94.0     93663.0   \n\n       areaMovingAverage7  upperRegionMovingAverage7  regionMovingAverage7  \\\n51970            0.285714                   0.285714              9.285714   \n51971            0.285714                   0.285714             10.428571   \n51972            0.285714                   0.285714             10.428571   \n51973            0.285714                   0.285714              9.571429   \n51974            0.285714                   0.285714              9.000000   \n\n           rate  areaMA7Max  areaMAtoPeakProp  \n51970  0.000000   15.857143          0.018018  \n51971  1.067657   15.857143          0.018018  \n51972  0.000000   15.857143          0.018018  \n51973  0.000000   15.857143          0.018018  \n51974  0.000000   15.857143          0.018018  ",
      "text/html": "<div>\n<style scoped>\n    .dataframe tbody tr th:only-of-type {\n        vertical-align: middle;\n    }\n\n    .dataframe tbody tr th {\n        vertical-align: top;\n    }\n\n    .dataframe thead th {\n        text-align: right;\n    }\n</style>\n<table border=\"1\" class=\"dataframe\">\n  <thead>\n    <tr style=\"text-align: right;\">\n      <th></th>\n      <th>areaCode</th>\n      <th>areaName</th>\n      <th>specimenDate</th>\n      <th>dailyLabConfirmedCases</th>\n      <th>totalLabConfirmedCases</th>\n      <th>upperRegionCode</th>\n      <th>upperRegionName</th>\n      <th>dailyLabConfirmedCasesUpperRegion</th>\n      <th>regionCode</th>\n      <th>regionName</th>\n      <th>dailyLabConfirmedCasesRegion</th>\n      <th>Geography</th>\n      <th>Area</th>\n      <th>Population</th>\n      <th>areaMovingAverage7</th>\n      <th>upperRegionMovingAverage7</th>\n      <th>regionMovingAverage7</th>\n      <th>rate</th>\n      <th>areaMA7Max</th>\n      <th>areaMAtoPeakProp</th>\n    </tr>\n  </thead>\n  <tbody>\n    <tr>\n      <th>51970</th>\n      <td>E06000001</td>\n      <td>Hartlepool</td>\n      <td>2020-07-08</td>\n      <td>0.0</td>\n      <td>0.0</td>\n      <td>E06000001</td>\n      <td>Hartlepool</td>\n      <td>0.0</td>\n      <td>E12000001</td>\n      <td>North East</td>\n      <td>12.0</td>\n      <td>Unitary Authority</td>\n      <td>94.0</td>\n      <td>93663.0</td>\n      <td>0.285714</td>\n      <td>0.285714</td>\n      <td>9.285714</td>\n      <td>0.000000</td>\n      <td>15.857143</td>\n      <td>0.018018</td>\n    </tr>\n    <tr>\n      <th>51971</th>\n      <td>E06000001</td>\n      <td>Hartlepool</td>\n      <td>2020-07-09</td>\n      <td>1.0</td>\n      <td>593.0</td>\n      <td>E06000001</td>\n      <td>Hartlepool</td>\n      <td>1.0</td>\n      <td>E12000001</td>\n      <td>North East</td>\n      <td>17.0</td>\n      <td>Unitary Authority</td>\n      <td>94.0</td>\n      <td>93663.0</td>\n      <td>0.285714</td>\n      <td>0.285714</td>\n      <td>10.428571</td>\n      <td>1.067657</td>\n      <td>15.857143</td>\n      <td>0.018018</td>\n    </tr>\n    <tr>\n      <th>51972</th>\n      <td>E06000001</td>\n      <td>Hartlepool</td>\n      <td>2020-07-10</td>\n      <td>0.0</td>\n      <td>0.0</td>\n      <td>E06000001</td>\n      <td>Hartlepool</td>\n      <td>0.0</td>\n      <td>E12000001</td>\n      <td>North East</td>\n      <td>8.0</td>\n      <td>Unitary Authority</td>\n      <td>94.0</td>\n      <td>93663.0</td>\n      <td>0.285714</td>\n      <td>0.285714</td>\n      <td>10.428571</td>\n      <td>0.000000</td>\n      <td>15.857143</td>\n      <td>0.018018</td>\n    </tr>\n    <tr>\n      <th>51973</th>\n      <td>E06000001</td>\n      <td>Hartlepool</td>\n      <td>2020-07-11</td>\n      <td>0.0</td>\n      <td>0.0</td>\n      <td>E06000001</td>\n      <td>Hartlepool</td>\n      <td>0.0</td>\n      <td>E12000001</td>\n      <td>North East</td>\n      <td>3.0</td>\n      <td>Unitary Authority</td>\n      <td>94.0</td>\n      <td>93663.0</td>\n      <td>0.285714</td>\n      <td>0.285714</td>\n      <td>9.571429</td>\n      <td>0.000000</td>\n      <td>15.857143</td>\n      <td>0.018018</td>\n    </tr>\n    <tr>\n      <th>51974</th>\n      <td>E06000001</td>\n      <td>Hartlepool</td>\n      <td>2020-07-12</td>\n      <td>0.0</td>\n      <td>593.0</td>\n      <td>E06000001</td>\n      <td>Hartlepool</td>\n      <td>0.0</td>\n      <td>E12000001</td>\n      <td>North East</td>\n      <td>0.0</td>\n      <td>Unitary Authority</td>\n      <td>94.0</td>\n      <td>93663.0</td>\n      <td>0.285714</td>\n      <td>0.285714</td>\n      <td>9.000000</td>\n      <td>0.000000</td>\n      <td>15.857143</td>\n      <td>0.018018</td>\n    </tr>\n  </tbody>\n</table>\n</div>"
     },
     "metadata": {},
     "execution_count": 34
    }
   ],
   "source": [
    "ltlasDf[].tail()"
   ]
  },
  {
   "cell_type": "code",
   "execution_count": 39,
   "metadata": {},
   "outputs": [],
   "source": [
    "ltlasDf[ltlasDf.specimenDate == (ltlasDf.specimenDate.max() - timedelta(days=5))].sort_values(by='areaMAtoPeakProp', ascending=False).to_csv(r'C:\\Users\\Projects\\Documents\\Engliand Covid Data\\ltlas_analysis.csv')"
   ]
  },
  {
   "cell_type": "code",
   "execution_count": 35,
   "metadata": {},
   "outputs": [
    {
     "output_type": "execute_result",
     "data": {
      "text/plain": "        areaCode   areaName specimenDate  dailyLabConfirmedCases  \\\n49495  E06000016  Leicester   2020-07-08                    58.0   \n49496  E06000016  Leicester   2020-07-09                    41.0   \n49497  E06000016  Leicester   2020-07-10                    50.0   \n49498  E06000016  Leicester   2020-07-11                    44.0   \n49499  E06000016  Leicester   2020-07-12                     3.0   \n\n       totalLabConfirmedCases upperRegionCode upperRegionName  \\\n49495                  4186.0       E06000016       Leicester   \n49496                  4227.0       E06000016       Leicester   \n49497                  4277.0       E06000016       Leicester   \n49498                  4321.0       E06000016       Leicester   \n49499                  4324.0       E06000016       Leicester   \n\n       dailyLabConfirmedCasesUpperRegion regionCode     regionName  \\\n49495                               58.0  E12000004  East Midlands   \n49496                               41.0  E12000004  East Midlands   \n49497                               50.0  E12000004  East Midlands   \n49498                               44.0  E12000004  East Midlands   \n49499                                3.0  E12000004  East Midlands   \n\n       dailyLabConfirmedCasesRegion          Geography  Area  Population  \\\n49495                          97.0  Unitary Authority  73.0    354224.0   \n49496                          91.0  Unitary Authority  73.0    354224.0   \n49497                          72.0  Unitary Authority  73.0    354224.0   \n49498                          62.0  Unitary Authority  73.0    354224.0   \n49499                           5.0  Unitary Authority  73.0    354224.0   \n\n       areaMovingAverage7  upperRegionMovingAverage7  regionMovingAverage7  \\\n49495           62.142857                  62.142857            109.571429   \n49496           59.857143                  59.857143            107.571429   \n49497           58.000000                  58.000000            102.571429   \n49498           58.285714                  58.285714             99.000000   \n49499           47.428571                  47.428571             81.571429   \n\n            rate  areaMA7Max  areaMAtoPeakProp  \n49495  16.373820   80.714286          0.769912  \n49496  11.574597   80.714286          0.741593  \n49497  14.115362   80.714286          0.718584  \n49498  12.421519   80.714286          0.722124  \n49499   0.846922   80.714286          0.587611  ",
      "text/html": "<div>\n<style scoped>\n    .dataframe tbody tr th:only-of-type {\n        vertical-align: middle;\n    }\n\n    .dataframe tbody tr th {\n        vertical-align: top;\n    }\n\n    .dataframe thead th {\n        text-align: right;\n    }\n</style>\n<table border=\"1\" class=\"dataframe\">\n  <thead>\n    <tr style=\"text-align: right;\">\n      <th></th>\n      <th>areaCode</th>\n      <th>areaName</th>\n      <th>specimenDate</th>\n      <th>dailyLabConfirmedCases</th>\n      <th>totalLabConfirmedCases</th>\n      <th>upperRegionCode</th>\n      <th>upperRegionName</th>\n      <th>dailyLabConfirmedCasesUpperRegion</th>\n      <th>regionCode</th>\n      <th>regionName</th>\n      <th>dailyLabConfirmedCasesRegion</th>\n      <th>Geography</th>\n      <th>Area</th>\n      <th>Population</th>\n      <th>areaMovingAverage7</th>\n      <th>upperRegionMovingAverage7</th>\n      <th>regionMovingAverage7</th>\n      <th>rate</th>\n      <th>areaMA7Max</th>\n      <th>areaMAtoPeakProp</th>\n    </tr>\n  </thead>\n  <tbody>\n    <tr>\n      <th>49495</th>\n      <td>E06000016</td>\n      <td>Leicester</td>\n      <td>2020-07-08</td>\n      <td>58.0</td>\n      <td>4186.0</td>\n      <td>E06000016</td>\n      <td>Leicester</td>\n      <td>58.0</td>\n      <td>E12000004</td>\n      <td>East Midlands</td>\n      <td>97.0</td>\n      <td>Unitary Authority</td>\n      <td>73.0</td>\n      <td>354224.0</td>\n      <td>62.142857</td>\n      <td>62.142857</td>\n      <td>109.571429</td>\n      <td>16.373820</td>\n      <td>80.714286</td>\n      <td>0.769912</td>\n    </tr>\n    <tr>\n      <th>49496</th>\n      <td>E06000016</td>\n      <td>Leicester</td>\n      <td>2020-07-09</td>\n      <td>41.0</td>\n      <td>4227.0</td>\n      <td>E06000016</td>\n      <td>Leicester</td>\n      <td>41.0</td>\n      <td>E12000004</td>\n      <td>East Midlands</td>\n      <td>91.0</td>\n      <td>Unitary Authority</td>\n      <td>73.0</td>\n      <td>354224.0</td>\n      <td>59.857143</td>\n      <td>59.857143</td>\n      <td>107.571429</td>\n      <td>11.574597</td>\n      <td>80.714286</td>\n      <td>0.741593</td>\n    </tr>\n    <tr>\n      <th>49497</th>\n      <td>E06000016</td>\n      <td>Leicester</td>\n      <td>2020-07-10</td>\n      <td>50.0</td>\n      <td>4277.0</td>\n      <td>E06000016</td>\n      <td>Leicester</td>\n      <td>50.0</td>\n      <td>E12000004</td>\n      <td>East Midlands</td>\n      <td>72.0</td>\n      <td>Unitary Authority</td>\n      <td>73.0</td>\n      <td>354224.0</td>\n      <td>58.000000</td>\n      <td>58.000000</td>\n      <td>102.571429</td>\n      <td>14.115362</td>\n      <td>80.714286</td>\n      <td>0.718584</td>\n    </tr>\n    <tr>\n      <th>49498</th>\n      <td>E06000016</td>\n      <td>Leicester</td>\n      <td>2020-07-11</td>\n      <td>44.0</td>\n      <td>4321.0</td>\n      <td>E06000016</td>\n      <td>Leicester</td>\n      <td>44.0</td>\n      <td>E12000004</td>\n      <td>East Midlands</td>\n      <td>62.0</td>\n      <td>Unitary Authority</td>\n      <td>73.0</td>\n      <td>354224.0</td>\n      <td>58.285714</td>\n      <td>58.285714</td>\n      <td>99.000000</td>\n      <td>12.421519</td>\n      <td>80.714286</td>\n      <td>0.722124</td>\n    </tr>\n    <tr>\n      <th>49499</th>\n      <td>E06000016</td>\n      <td>Leicester</td>\n      <td>2020-07-12</td>\n      <td>3.0</td>\n      <td>4324.0</td>\n      <td>E06000016</td>\n      <td>Leicester</td>\n      <td>3.0</td>\n      <td>E12000004</td>\n      <td>East Midlands</td>\n      <td>5.0</td>\n      <td>Unitary Authority</td>\n      <td>73.0</td>\n      <td>354224.0</td>\n      <td>47.428571</td>\n      <td>47.428571</td>\n      <td>81.571429</td>\n      <td>0.846922</td>\n      <td>80.714286</td>\n      <td>0.587611</td>\n    </tr>\n  </tbody>\n</table>\n</div>"
     },
     "metadata": {},
     "execution_count": 35
    }
   ],
   "source": [
    "ltlasDf[ltlasDf.areaName=='Leicester'].tail()"
   ]
  },
  {
   "cell_type": "code",
   "execution_count": 16,
   "metadata": {},
   "outputs": [
    {
     "output_type": "execute_result",
     "data": {
      "text/plain": "      areaCode              areaName  dailyLabConfirmedCases        rate  \\\n0    E06000001            Hartlepool                   593.0  633.120870   \n1    E06000002         Middlesbrough                   955.0  677.401050   \n2    E06000003  Redcar and Cleveland                   701.0  511.119213   \n3    E06000004      Stockton-on-Tees                   964.0  488.477208   \n4    E06000005            Darlington                   603.0  564.590882   \n..         ...                   ...                     ...         ...   \n310  E09000029                Sutton                  1004.0  486.554333   \n311  E09000030         Tower Hamlets                   819.0  252.197878   \n312  E09000031        Waltham Forest                  1021.0  368.614680   \n313  E09000032            Wandsworth                  1163.0  352.769529   \n314  E09000033           Westminster                   780.0  298.488043   \n\n     Population   Area  \n0       93663.0   94.0  \n1      140980.0   54.0  \n2      137150.0  245.0  \n3      197348.0  205.0  \n4      106803.0  197.0  \n..          ...    ...  \n310    206349.0   44.0  \n311    324745.0   20.0  \n312    276983.0   39.0  \n313    329677.0   34.0  \n314    261317.0   21.0  \n\n[315 rows x 6 columns]",
      "text/html": "<div>\n<style scoped>\n    .dataframe tbody tr th:only-of-type {\n        vertical-align: middle;\n    }\n\n    .dataframe tbody tr th {\n        vertical-align: top;\n    }\n\n    .dataframe thead th {\n        text-align: right;\n    }\n</style>\n<table border=\"1\" class=\"dataframe\">\n  <thead>\n    <tr style=\"text-align: right;\">\n      <th></th>\n      <th>areaCode</th>\n      <th>areaName</th>\n      <th>dailyLabConfirmedCases</th>\n      <th>rate</th>\n      <th>Population</th>\n      <th>Area</th>\n    </tr>\n  </thead>\n  <tbody>\n    <tr>\n      <th>0</th>\n      <td>E06000001</td>\n      <td>Hartlepool</td>\n      <td>593.0</td>\n      <td>633.120870</td>\n      <td>93663.0</td>\n      <td>94.0</td>\n    </tr>\n    <tr>\n      <th>1</th>\n      <td>E06000002</td>\n      <td>Middlesbrough</td>\n      <td>955.0</td>\n      <td>677.401050</td>\n      <td>140980.0</td>\n      <td>54.0</td>\n    </tr>\n    <tr>\n      <th>2</th>\n      <td>E06000003</td>\n      <td>Redcar and Cleveland</td>\n      <td>701.0</td>\n      <td>511.119213</td>\n      <td>137150.0</td>\n      <td>245.0</td>\n    </tr>\n    <tr>\n      <th>3</th>\n      <td>E06000004</td>\n      <td>Stockton-on-Tees</td>\n      <td>964.0</td>\n      <td>488.477208</td>\n      <td>197348.0</td>\n      <td>205.0</td>\n    </tr>\n    <tr>\n      <th>4</th>\n      <td>E06000005</td>\n      <td>Darlington</td>\n      <td>603.0</td>\n      <td>564.590882</td>\n      <td>106803.0</td>\n      <td>197.0</td>\n    </tr>\n    <tr>\n      <th>...</th>\n      <td>...</td>\n      <td>...</td>\n      <td>...</td>\n      <td>...</td>\n      <td>...</td>\n      <td>...</td>\n    </tr>\n    <tr>\n      <th>310</th>\n      <td>E09000029</td>\n      <td>Sutton</td>\n      <td>1004.0</td>\n      <td>486.554333</td>\n      <td>206349.0</td>\n      <td>44.0</td>\n    </tr>\n    <tr>\n      <th>311</th>\n      <td>E09000030</td>\n      <td>Tower Hamlets</td>\n      <td>819.0</td>\n      <td>252.197878</td>\n      <td>324745.0</td>\n      <td>20.0</td>\n    </tr>\n    <tr>\n      <th>312</th>\n      <td>E09000031</td>\n      <td>Waltham Forest</td>\n      <td>1021.0</td>\n      <td>368.614680</td>\n      <td>276983.0</td>\n      <td>39.0</td>\n    </tr>\n    <tr>\n      <th>313</th>\n      <td>E09000032</td>\n      <td>Wandsworth</td>\n      <td>1163.0</td>\n      <td>352.769529</td>\n      <td>329677.0</td>\n      <td>34.0</td>\n    </tr>\n    <tr>\n      <th>314</th>\n      <td>E09000033</td>\n      <td>Westminster</td>\n      <td>780.0</td>\n      <td>298.488043</td>\n      <td>261317.0</td>\n      <td>21.0</td>\n    </tr>\n  </tbody>\n</table>\n<p>315 rows × 6 columns</p>\n</div>"
     },
     "metadata": {},
     "execution_count": 16
    }
   ],
   "source": [
    "ltlasDf.groupby(['areaCode','areaName']).agg({'dailyLabConfirmedCases' : 'sum',\n",
    "                                                'rate': 'sum',\n",
    "                                                'Population': 'max',\n",
    "                                                'Area': 'max'}).reset_index()"
   ]
  },
  {
   "cell_type": "code",
   "execution_count": 32,
   "metadata": {},
   "outputs": [],
   "source": [
    "ltlasAllSumDf = ltlasDf.groupby(['areaCode','areaName']).agg({'dailyLabConfirmedCases' : 'sum',\n",
    "                                                'rate': 'sum',\n",
    "                                                'Population': 'max',\n",
    "                                                'Area': 'max'}).reset_index()"
   ]
  },
  {
   "cell_type": "code",
   "execution_count": 33,
   "metadata": {},
   "outputs": [],
   "source": [
    "# Adding Last 30 days cases and growth\n",
    "tmp = ltlasDf[ltlasDf.specimenDate > (ltlasDf.specimenDate.max() - timedelta(days=30))].groupby('areaCode')['dailyLabConfirmedCases'].sum()\n",
    "ltlasAllSumDf['last30dCases'] = ltlasAllSumDf['areaCode'].map(tmp)\n",
    "tmp = ltlasDf[ltlasDf.specimenDate > (ltlasDf.specimenDate.max() - timedelta(days=30))].groupby('areaCode')['rate'].sum()\n",
    "ltlasAllSumDf['last30dRate'] = ltlasAllSumDf['areaCode'].map(tmp)"
   ]
  },
  {
   "cell_type": "code",
   "execution_count": 34,
   "metadata": {},
   "outputs": [],
   "source": [
    "# Adding Last 7 days cases and growth\n",
    "tmp = ltlasDf[ltlasDf.specimenDate > (ltlasDf.specimenDate.max() - timedelta(days=7))].groupby('areaCode')['dailyLabConfirmedCases'].sum()\n",
    "ltlasAllSumDf['last7dCases'] = ltlasAllSumDf['areaCode'].map(tmp)\n",
    "tmp = ltlasDf[ltlasDf.specimenDate > (ltlasDf.specimenDate.max() - timedelta(days=7))].groupby('areaCode')['rate'].sum()\n",
    "ltlasAllSumDf['last7dRate'] = ltlasAllSumDf['areaCode'].map(tmp)"
   ]
  },
  {
   "cell_type": "code",
   "execution_count": 35,
   "metadata": {},
   "outputs": [],
   "source": [
    "tmp = ltlasDf[(ltlasDf.specimenDate >= (ltlasDf.specimenDate.max() - timedelta(days=17))) & (ltlasDf.specimenDate <= (ltlasDf.specimenDate.max() - timedelta(days=4)))].groupby('areaCode')['rate'].sum()\n",
    "tmp1 = ltlasDf[(ltlasDf.specimenDate >= (ltlasDf.specimenDate.max() - timedelta(days=31))) & (ltlasDf.specimenDate <= (ltlasDf.specimenDate.max() - timedelta(days=18)))].groupby('areaCode')['rate'].sum()\n",
    "ltlasAllSumDf['rFirst14'] = ltlasAllSumDf['areaCode'].map(tmp)\n",
    "ltlasAllSumDf['rSecond14'] = ltlasAllSumDf['areaCode'].map(tmp1)\n",
    "ltlasAllSumDf['rBasic'] = np.round(ltlasAllSumDf['rFirst14'] /  ltlasAllSumDf['rSecond14'],2)\n",
    "ltlasAllSumDf['rBasic'] = ltlasAllSumDf['rBasic'].fillna(0)\n",
    "ltlasAllSumDf['rBasic'] = ltlasAllSumDf['rBasic'].replace(np.inf, ltlasAllSumDf['rFirst14'])"
   ]
  },
  {
   "cell_type": "code",
   "execution_count": 40,
   "metadata": {},
   "outputs": [],
   "source": [
    "ltlasAllSumDf['relativeDiff'] = ltlasAllSumDf['rFirst14'] -  ltlasAllSumDf['rSecond14']"
   ]
  },
  {
   "cell_type": "code",
   "execution_count": 42,
   "metadata": {},
   "outputs": [
    {
     "output_type": "execute_result",
     "data": {
      "text/plain": "      areaCode                   areaName  dailyLabConfirmedCases  \\\n15   E06000016                  Leicester                  3735.0   \n143  E07000122                     Pendle                   416.0   \n86   E07000061                 Eastbourne                   382.0   \n184  E07000169                      Selby                   311.0   \n66   E07000028                   Carlisle                   646.0   \n279  E08000034                   Kirklees                  1960.0   \n133  E07000112       Folkestone and Hythe                   712.0   \n206  E07000198    Staffordshire Moorlands                   364.0   \n155  E07000134  North West Leicestershire                   300.0   \n257  E08000011                   Knowsley                   986.0   \n\n            rate  Population    Area  last30dCases  last30dRate  last7dCases  \\\n15   1054.417544    354224.0    73.0        1810.0   510.976106        354.0   \n143   451.624110     92112.0   169.0          83.0    90.107695         10.0   \n86    368.210516    103745.0    44.0          53.0    51.086799         11.0   \n184   343.191348     90620.0   599.0          42.0    46.347385          5.0   \n66    594.416533    108678.0  1039.0          36.0    33.125380         21.0   \n279   445.670290    439787.0   409.0         498.0   113.236635        112.0   \n133   630.110800    112996.0   357.0         126.0   111.508372         23.0   \n206   369.787169     98435.0   576.0          53.0    53.842637         13.0   \n155   289.544546    103611.0   279.0          49.0    47.292276          3.0   \n257   653.577442    150862.0    87.0          72.0    47.725736         21.0   \n\n     last7dRate    rFirst14   rSecond14  rBasic  relativeDiff  \n15    99.936763  285.694928  200.720448    1.42     84.974479  \n143   10.856349   55.367379   32.569046    1.70     22.798332  \n86    10.602921   32.772664   13.494626    2.43     19.278037  \n184    5.517546   32.001766   15.449128    2.07     16.552637  \n66    19.323138   18.402989    5.520897    3.33     12.882092  \n279   25.466874   57.755232   45.249177    1.28     12.506054  \n133   20.354703   57.524160   46.019328    1.25     11.504832  \n206   13.206685   32.508762   21.333875    1.52     11.174887  \n155    2.895445   31.849900   21.233267    1.50     10.616633  \n257   13.920006   27.177155   16.571436    1.64     10.605719  ",
      "text/html": "<div>\n<style scoped>\n    .dataframe tbody tr th:only-of-type {\n        vertical-align: middle;\n    }\n\n    .dataframe tbody tr th {\n        vertical-align: top;\n    }\n\n    .dataframe thead th {\n        text-align: right;\n    }\n</style>\n<table border=\"1\" class=\"dataframe\">\n  <thead>\n    <tr style=\"text-align: right;\">\n      <th></th>\n      <th>areaCode</th>\n      <th>areaName</th>\n      <th>dailyLabConfirmedCases</th>\n      <th>rate</th>\n      <th>Population</th>\n      <th>Area</th>\n      <th>last30dCases</th>\n      <th>last30dRate</th>\n      <th>last7dCases</th>\n      <th>last7dRate</th>\n      <th>rFirst14</th>\n      <th>rSecond14</th>\n      <th>rBasic</th>\n      <th>relativeDiff</th>\n    </tr>\n  </thead>\n  <tbody>\n    <tr>\n      <th>15</th>\n      <td>E06000016</td>\n      <td>Leicester</td>\n      <td>3735.0</td>\n      <td>1054.417544</td>\n      <td>354224.0</td>\n      <td>73.0</td>\n      <td>1810.0</td>\n      <td>510.976106</td>\n      <td>354.0</td>\n      <td>99.936763</td>\n      <td>285.694928</td>\n      <td>200.720448</td>\n      <td>1.42</td>\n      <td>84.974479</td>\n    </tr>\n    <tr>\n      <th>143</th>\n      <td>E07000122</td>\n      <td>Pendle</td>\n      <td>416.0</td>\n      <td>451.624110</td>\n      <td>92112.0</td>\n      <td>169.0</td>\n      <td>83.0</td>\n      <td>90.107695</td>\n      <td>10.0</td>\n      <td>10.856349</td>\n      <td>55.367379</td>\n      <td>32.569046</td>\n      <td>1.70</td>\n      <td>22.798332</td>\n    </tr>\n    <tr>\n      <th>86</th>\n      <td>E07000061</td>\n      <td>Eastbourne</td>\n      <td>382.0</td>\n      <td>368.210516</td>\n      <td>103745.0</td>\n      <td>44.0</td>\n      <td>53.0</td>\n      <td>51.086799</td>\n      <td>11.0</td>\n      <td>10.602921</td>\n      <td>32.772664</td>\n      <td>13.494626</td>\n      <td>2.43</td>\n      <td>19.278037</td>\n    </tr>\n    <tr>\n      <th>184</th>\n      <td>E07000169</td>\n      <td>Selby</td>\n      <td>311.0</td>\n      <td>343.191348</td>\n      <td>90620.0</td>\n      <td>599.0</td>\n      <td>42.0</td>\n      <td>46.347385</td>\n      <td>5.0</td>\n      <td>5.517546</td>\n      <td>32.001766</td>\n      <td>15.449128</td>\n      <td>2.07</td>\n      <td>16.552637</td>\n    </tr>\n    <tr>\n      <th>66</th>\n      <td>E07000028</td>\n      <td>Carlisle</td>\n      <td>646.0</td>\n      <td>594.416533</td>\n      <td>108678.0</td>\n      <td>1039.0</td>\n      <td>36.0</td>\n      <td>33.125380</td>\n      <td>21.0</td>\n      <td>19.323138</td>\n      <td>18.402989</td>\n      <td>5.520897</td>\n      <td>3.33</td>\n      <td>12.882092</td>\n    </tr>\n    <tr>\n      <th>279</th>\n      <td>E08000034</td>\n      <td>Kirklees</td>\n      <td>1960.0</td>\n      <td>445.670290</td>\n      <td>439787.0</td>\n      <td>409.0</td>\n      <td>498.0</td>\n      <td>113.236635</td>\n      <td>112.0</td>\n      <td>25.466874</td>\n      <td>57.755232</td>\n      <td>45.249177</td>\n      <td>1.28</td>\n      <td>12.506054</td>\n    </tr>\n    <tr>\n      <th>133</th>\n      <td>E07000112</td>\n      <td>Folkestone and Hythe</td>\n      <td>712.0</td>\n      <td>630.110800</td>\n      <td>112996.0</td>\n      <td>357.0</td>\n      <td>126.0</td>\n      <td>111.508372</td>\n      <td>23.0</td>\n      <td>20.354703</td>\n      <td>57.524160</td>\n      <td>46.019328</td>\n      <td>1.25</td>\n      <td>11.504832</td>\n    </tr>\n    <tr>\n      <th>206</th>\n      <td>E07000198</td>\n      <td>Staffordshire Moorlands</td>\n      <td>364.0</td>\n      <td>369.787169</td>\n      <td>98435.0</td>\n      <td>576.0</td>\n      <td>53.0</td>\n      <td>53.842637</td>\n      <td>13.0</td>\n      <td>13.206685</td>\n      <td>32.508762</td>\n      <td>21.333875</td>\n      <td>1.52</td>\n      <td>11.174887</td>\n    </tr>\n    <tr>\n      <th>155</th>\n      <td>E07000134</td>\n      <td>North West Leicestershire</td>\n      <td>300.0</td>\n      <td>289.544546</td>\n      <td>103611.0</td>\n      <td>279.0</td>\n      <td>49.0</td>\n      <td>47.292276</td>\n      <td>3.0</td>\n      <td>2.895445</td>\n      <td>31.849900</td>\n      <td>21.233267</td>\n      <td>1.50</td>\n      <td>10.616633</td>\n    </tr>\n    <tr>\n      <th>257</th>\n      <td>E08000011</td>\n      <td>Knowsley</td>\n      <td>986.0</td>\n      <td>653.577442</td>\n      <td>150862.0</td>\n      <td>87.0</td>\n      <td>72.0</td>\n      <td>47.725736</td>\n      <td>21.0</td>\n      <td>13.920006</td>\n      <td>27.177155</td>\n      <td>16.571436</td>\n      <td>1.64</td>\n      <td>10.605719</td>\n    </tr>\n  </tbody>\n</table>\n</div>"
     },
     "metadata": {},
     "execution_count": 42
    }
   ],
   "source": [
    "ltlasAllSumDf.sort_values(by='relativeDiff', ascending=False).head(10)"
   ]
  },
  {
   "cell_type": "code",
   "execution_count": 28,
   "metadata": {},
   "outputs": [
    {
     "output_type": "execute_result",
     "data": {
      "text/plain": "      areaCode areaName  dailyLabConfirmedCases        rate  Population  \\\n226  E07000222  Warwick                   430.0  299.124192    143753.0   \n\n      Area  last30dCases  last30dRate  last7dCases  last7dRate  \n226  283.0          16.0    11.130203          1.0    0.695638  ",
      "text/html": "<div>\n<style scoped>\n    .dataframe tbody tr th:only-of-type {\n        vertical-align: middle;\n    }\n\n    .dataframe tbody tr th {\n        vertical-align: top;\n    }\n\n    .dataframe thead th {\n        text-align: right;\n    }\n</style>\n<table border=\"1\" class=\"dataframe\">\n  <thead>\n    <tr style=\"text-align: right;\">\n      <th></th>\n      <th>areaCode</th>\n      <th>areaName</th>\n      <th>dailyLabConfirmedCases</th>\n      <th>rate</th>\n      <th>Population</th>\n      <th>Area</th>\n      <th>last30dCases</th>\n      <th>last30dRate</th>\n      <th>last7dCases</th>\n      <th>last7dRate</th>\n    </tr>\n  </thead>\n  <tbody>\n    <tr>\n      <th>226</th>\n      <td>E07000222</td>\n      <td>Warwick</td>\n      <td>430.0</td>\n      <td>299.124192</td>\n      <td>143753.0</td>\n      <td>283.0</td>\n      <td>16.0</td>\n      <td>11.130203</td>\n      <td>1.0</td>\n      <td>0.695638</td>\n    </tr>\n  </tbody>\n</table>\n</div>"
     },
     "metadata": {},
     "execution_count": 28
    }
   ],
   "source": [
    "ltlasAllSumDf[ltlasAllSumDf.areaName=='Warwick']"
   ]
  },
  {
   "cell_type": "code",
   "execution_count": null,
   "metadata": {},
   "outputs": [],
   "source": [
    "ltlasDf.specimenDate.max()"
   ]
  },
  {
   "cell_type": "code",
   "execution_count": null,
   "metadata": {},
   "outputs": [],
   "source": [
    "ltlasDf.groupby(['areaName'])['rate'].sum().sort_values(ascending=False).head(10)"
   ]
  },
  {
   "cell_type": "code",
   "execution_count": null,
   "metadata": {},
   "outputs": [],
   "source": [
    "ltlasWorst10RateLast30D = ltlasDf[ltlasDf.specimenDate > ltlasDf.specimenDate.max()- timedelta(days=30)].groupby(['areaName'])['rate'].sum().sort_values(ascending=False).head(10).reset_index()"
   ]
  },
  {
   "cell_type": "code",
   "execution_count": null,
   "metadata": {},
   "outputs": [],
   "source": [
    "ltlasWorst10RateLast30D.rate = np.round(ltlasWorst10RateLast30D.rate,1)"
   ]
  },
  {
   "cell_type": "code",
   "execution_count": null,
   "metadata": {},
   "outputs": [],
   "source": [
    "ltlasSumDf = ltlasDf.groupby('areaCode')['dailyLabConfirmedCases'].sum().reset_index()\n",
    "tmp = ltlasDf[ltlasDf.specimenDate > (ltlasDf.specimenDate.max() - timedelta(days=30))].groupby('areaCode')['dailyLabConfirmedCases'].sum()\n",
    "ltlasSumDf['last30dCases'] = ltlasSumDf['areaCode'].map(tmp)\n",
    "tmp = ltlasDf[(ltlasDf.specimenDate >= (ltlasDf.specimenDate.max() - timedelta(days=17))) & (ltlasDf.specimenDate <= (ltlasDf.specimenDate.max() - timedelta(days=4)))].groupby('areaCode')['dailyLabConfirmedCases'].sum()\n",
    "tmp1 = ltlasDf[(ltlasDf.specimenDate >= (ltlasDf.specimenDate.max() - timedelta(days=31))) & (ltlasDf.specimenDate <= (ltlasDf.specimenDate.max() - timedelta(days=18)))].groupby('areaCode')['dailyLabConfirmedCases'].sum()\n",
    "ltlasSumDf['rFirst14'] = ltlasSumDf['areaCode'].map(tmp)\n",
    "ltlasSumDf['rSecond14'] = ltlasSumDf['areaCode'].map(tmp1)\n",
    "ltlasSumDf['rBasic'] = np.round(ltlasSumDf['rFirst14'] /  ltlasSumDf['rSecond14'],2)\n",
    "ltlasSumDf.dailyLabConfirmedCases = ltlasSumDf.dailyLabConfirmedCases.astype('int')\n",
    "ltlasSumDf.last30dCases = ltlasSumDf.last30dCases.astype('int')\n",
    "ltlasSumDf.rFirst14 = ltlasSumDf.rFirst14.astype('int')\n",
    "ltlasSumDf.rSecond14= ltlasSumDf.rSecond14.astype('int')\n",
    "ltlasSumDf['rBasic'] = ltlasSumDf['rBasic'].fillna(0)\n",
    "ltlasSumDf['rBasic'] = ltlasSumDf['rBasic'].replace(np.inf, ltlasSumDf['rFirst14'])"
   ]
  },
  {
   "cell_type": "code",
   "execution_count": null,
   "metadata": {},
   "outputs": [],
   "source": []
  },
  {
   "cell_type": "code",
   "execution_count": null,
   "metadata": {},
   "outputs": [],
   "source": [
    "tmp = ltlasDf[(ltlasDf.specimenDate >= (ltlasDf.specimenDate.max() - timedelta(days=17))) & (ltlasDf.specimenDate <= (ltlasDf.specimenDate.max() - timedelta(days=4)))].groupby('areaCode')['rate'].sum()\n",
    "tmp1 = ltlasDf[(ltlasDf.specimenDate >= (ltlasDf.specimenDate.max() - timedelta(days=31))) & (ltlasDf.specimenDate <= (ltlasDf.specimenDate.max() - timedelta(days=18)))].groupby('areaCode')['rate'].sum()\n",
    "ltlasSumDf['rFirst14Rate'] = ltlasSumDf['areaCode'].map(tmp)\n",
    "ltlasSumDf['rSecond14Rate'] = ltlasSumDf['areaCode'].map(tmp1)\n",
    "ltlasSumDf['rBasicRate'] = np.round(ltlasSumDf['rFirst14Rate'] /  ltlasSumDf['rSecond14Rate'],2)\n"
   ]
  },
  {
   "cell_type": "code",
   "execution_count": null,
   "metadata": {},
   "outputs": [],
   "source": [
    "ltlasSumDf"
   ]
  },
  {
   "cell_type": "code",
   "execution_count": null,
   "metadata": {},
   "outputs": [],
   "source": [
    "ltlasSumDf.dailyLabConfirmedCases = ltlasSumDf.dailyLabConfirmedCases.astype('int')\n",
    "ltlasSumDf.last30dCases = ltlasSumDf.last30dCases.astype('int')\n",
    "ltlasSumDf.rFirst14 = ltlasSumDf.rFirst14.astype('int')\n",
    "ltlasSumDf.rSecond14= ltlasSumDf.rSecond14.astype('int')\n",
    "ltlasSumDf['rBasic'] = ltlasSumDf['rBasic'].fillna(0)\n",
    "ltlasSumDf['rBasic'] = ltlasSumDf['rBasic'].replace(np.inf, ltlasSumDf['rFirst14'])"
   ]
  },
  {
   "cell_type": "code",
   "execution_count": null,
   "metadata": {},
   "outputs": [],
   "source": [
    "tmp = lowerToUpperDf[['LTLA19CD','LTLA19NM']].drop_duplicates()\n",
    "tmp = tmp.rename(columns={'LTLA19CD': 'areaCode','LTLA19NM': 'areaName'})\n",
    "tmp = pd.merge(\n",
    "    left=ltlasSumDf,\n",
    "    right=tmp,\n",
    "    how='left')\n",
    "ltlasWorst10Df = tmp[tmp.rFirst14>=20][['areaName','rFirst14','rSecond14','rBasic']].sort_values(by='rBasic', ascending=False).head(10)\n",
    "ltlastop10last30dDf = tmp[['areaName','last30dCases']].sort_values(by='last30dCases', ascending=False).head(10)"
   ]
  },
  {
   "cell_type": "code",
   "execution_count": null,
   "metadata": {
    "tags": []
   },
   "outputs": [],
   "source": [
    "print(ltlasDf.specimenDate.max())\n",
    "print(ltlasDf.specimenDate.max() - timedelta(days=17), ltlasDf.specimenDate.max() - timedelta(days=4))\n",
    "print(ltlasDf.specimenDate.max() - timedelta(days=31), ltlasDf.specimenDate.max() - timedelta(days=18))"
   ]
  },
  {
   "cell_type": "code",
   "execution_count": null,
   "metadata": {},
   "outputs": [],
   "source": [
    "ltlasSumDf[ltlasSumDf.rSecond14>30].sort_values(by='rBasic', ascending=False).head(20)"
   ]
  },
  {
   "cell_type": "code",
   "execution_count": null,
   "metadata": {},
   "outputs": [],
   "source": [
    "today : 22\n",
    "first : 4-17\n",
    "second : 21-3"
   ]
  },
  {
   "cell_type": "code",
   "execution_count": null,
   "metadata": {},
   "outputs": [],
   "source": [
    "ltlasDf = ltlasDf[ltlasDf.specimenDate>='2020-03-01']\n",
    "\n",
    "ltlasDf = ltlasDf.rename(\n",
    "columns={\n",
    "    \"dailyLabConfirmedCases\" : \"dcLower\",\n",
    "    \"totalLabConfirmedCases\" : \"tcLower\",\n",
    "    \"upperRegionCode\" : \"urCode\",\n",
    "    \"upperRegionName\" : \"urName\",\n",
    "    \"dailyLabConfirmedCasesUpperRegion\" : \"dcUpper\",\n",
    "    \"regionCode\" : \"rCode\",\n",
    "    \"regionName\" : \"rName\",\n",
    "    \"dailyLabConfirmedCasesRegion\" : \"dcRegion\",\n",
    "    \"areaMovingAverage7\" : \"ma7Lower\",\n",
    "    \"upperRegionMovingAverage7\" : \"ma7Upper\",\n",
    "    \"regionMovingAverage7\" : \"ma7Region\"\n",
    "    }\n",
    ")"
   ]
  },
  {
   "cell_type": "code",
   "execution_count": null,
   "metadata": {},
   "outputs": [],
   "source": [
    "ltlasDf.to_json(path_or_buf=\"data/ltlas.json\", orient=\"records\", date_format='iso')"
   ]
  },
  {
   "cell_type": "code",
   "execution_count": null,
   "metadata": {},
   "outputs": [],
   "source": [
    "ltlasDf[ltlasDf.areaName.str.len()==35]"
   ]
  },
  {
   "cell_type": "code",
   "execution_count": null,
   "metadata": {},
   "outputs": [],
   "source": []
  }
 ],
 "metadata": {
  "language_info": {
   "codemirror_mode": {
    "name": "ipython",
    "version": 3
   },
   "file_extension": ".py",
   "mimetype": "text/x-python",
   "name": "python",
   "nbconvert_exporter": "python",
   "pygments_lexer": "ipython3",
   "version": "3.7.6-final"
  },
  "orig_nbformat": 2,
  "kernelspec": {
   "name": "python3",
   "display_name": "Python 3"
  }
 },
 "nbformat": 4,
 "nbformat_minor": 2
}